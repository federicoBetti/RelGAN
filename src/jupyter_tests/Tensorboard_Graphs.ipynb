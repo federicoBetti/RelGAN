{
 "cells": [
  {
   "cell_type": "code",
   "execution_count": 1,
   "metadata": {},
   "outputs": [
    {
     "name": "stdout",
     "output_type": "stream",
     "text": [
      "C:\\Users\\feder\\Documents\\GitHub\\relgan\\src\\jupyter_tests\n",
      "C:\\Users\\feder\\Documents\\GitHub\\relgan\\src\n"
     ]
    }
   ],
   "source": [
    "import os\n",
    "cwd = os.getcwd()\n",
    "print(cwd)\n",
    "os.chdir(\"..\")\n",
    "cwd = os.getcwd()\n",
    "print(cwd)\n",
    "assert cwd.endswith(\"src\")"
   ]
  },
  {
   "cell_type": "code",
   "execution_count": 2,
   "metadata": {},
   "outputs": [],
   "source": [
    "import numpy as np\n",
    "import matplotlib.pyplot as plt\n",
    "from path_resolution import resources_path\n",
    "from os.path import join\n",
    "import pandas as pd\n",
    "from scipy.interpolate import make_interp_spline, BSpline"
   ]
  },
  {
   "cell_type": "code",
   "execution_count": 32,
   "metadata": {},
   "outputs": [],
   "source": [
    "csv_dir = \"KL_Coco_selfatt\"\n",
    "csv_path = resources_path(join(\"tensorboard_graphs\", csv_dir))\n",
    "files = os.listdir(csv_path)"
   ]
  },
  {
   "cell_type": "code",
   "execution_count": 40,
   "metadata": {},
   "outputs": [],
   "source": [
    "def get_smoothed_line(x, y):\n",
    "    xnew = np.linspace(x.min(),x.max(),x.max()/20) #300 represents number of points to make between T.min and T.max\n",
    "\n",
    "    spl = make_interp_spline(x, y, k=3) #BSpline object\n",
    "    power_smooth = spl(xnew)\n",
    "    return xnew, power_smooth"
   ]
  },
  {
   "cell_type": "code",
   "execution_count": 34,
   "metadata": {},
   "outputs": [],
   "source": [
    "from scipy.ndimage.filters import gaussian_filter1d\n",
    "\n",
    "def get_y_smoothed_gaussian(y):\n",
    "    ysmoothed = gaussian_filter1d(y, sigma=12)\n",
    "    return ysmoothed"
   ]
  },
  {
   "cell_type": "code",
   "execution_count": 41,
   "metadata": {},
   "outputs": [
    {
     "name": "stderr",
     "output_type": "stream",
     "text": [
      "C:\\Users\\feder\\Anaconda3\\envs\\RelGAN\\lib\\site-packages\\ipykernel_launcher.py:2: DeprecationWarning: object of type <class 'numpy.float64'> cannot be safely interpreted as an integer.\n",
      "  \n"
     ]
    },
    {
     "data": {
      "image/png": "[encoded data removed]",
      "text/plain": [
       "<Figure size 432x288 with 1 Axes>"
      ]
     },
     "metadata": {
      "needs_background": "light"
     },
     "output_type": "display_data"
    }
   ],
   "source": [
    "legends = []\n",
    "for file in files:\n",
    "    df = pd.read_csv(join(csv_path, file))\n",
    "    x = df['Step'][:6]\n",
    "    y = df['Value'][:6]\n",
    "    legends.append(file.split(\"-\")[1])\n",
    "    new_x, new_y = get_smoothed_line(x, y)\n",
    "    plt.plot(new_x, new_y)\n",
    "    #plt.plot(x, get_y_smoothed_gaussian(y))\n",
    "#plt.axvline(x=200, ymin=0.02, ymax=0.98, dashes=[6, 2])\n",
    "plt.ylabel(\"KL Divergence\")\n",
    "plt.xlabel(\"Epoch\")\n",
    "plt.legend(legends)\n",
    "#plt.title(\"Topic Pretrain\")\n",
    "plt.savefig(join(csv_path, csv_dir + \".png\"))\n",
    "plt.show()"
   ]
  },
  {
   "cell_type": "code",
   "execution_count": null,
   "metadata": {},
   "outputs": [],
   "source": []
  }
 ],
 "metadata": {
  "kernelspec": {
   "display_name": "Python 3",
   "language": "python",
   "name": "python3"
  },
  "language_info": {
   "codemirror_mode": {
    "name": "ipython",
    "version": 3
   },
   "file_extension": ".py",
   "mimetype": "text/x-python",
   "name": "python",
   "nbconvert_exporter": "python",
   "pygments_lexer": "ipython3",
   "version": "3.6.9"
  }
 },
 "nbformat": 4,
 "nbformat_minor": 2
}
