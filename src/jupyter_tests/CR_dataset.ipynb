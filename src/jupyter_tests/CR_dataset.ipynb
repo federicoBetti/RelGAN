{
 "cells": [
  {
   "cell_type": "code",
   "execution_count": 2,
   "metadata": {},
   "outputs": [
    {
     "name": "stdout",
     "output_type": "stream",
     "text": [
      "C:\\Users\\feder\\Documents\\GitHub\\relgan\\src\\jupyter_tests\n"
     ]
    }
   ],
   "source": [
    "import os\n",
    "cwd = os.getcwd()\n",
    "print(cwd)"
   ]
  },
  {
   "cell_type": "code",
   "execution_count": 3,
   "metadata": {},
   "outputs": [
    {
     "name": "stdout",
     "output_type": "stream",
     "text": [
      "C:\\Users\\feder\\Documents\\GitHub\\relgan\\src\n"
     ]
    }
   ],
   "source": [
    "os.chdir(\"..\")\n",
    "cwd = os.getcwd()\n",
    "print(cwd)\n",
    "assert cwd.endswith(\"src\")"
   ]
  },
  {
   "cell_type": "markdown",
   "metadata": {},
   "source": [
    "# CR dataset management"
   ]
  },
  {
   "cell_type": "code",
   "execution_count": 4,
   "metadata": {},
   "outputs": [],
   "source": [
    "import nltk, pandas as pd, numpy as np\n",
    "from os.path import join\n",
    "from tqdm import tqdm\n",
    "from utils.text_process import get_word_list, get_dict, text_to_code\n",
    "from utils.static_file_manage import write_json"
   ]
  },
  {
   "cell_type": "code",
   "execution_count": 5,
   "metadata": {},
   "outputs": [],
   "source": [
    "file = [\n",
    "    # 'Canon PowerShot SD500.txt',\n",
    "    'Canon S100.txt',\n",
    "    'Diaper Champ.txt',\n",
    "    'Hitachi router.txt',\n",
    "    'ipod.txt',\n",
    "    'Linksys Router.txt',\n",
    "    'MicroMP3.txt',\n",
    "    'Nokia 6600.txt',\n",
    "    'norton.txt',\n",
    "    'Apex AD2600 Progressive-scan DVD player.txt',\n",
    "    'Canon G3.txt',\n",
    "    'Creative Labs Nomad Jukebox Zen Xtra 40GB.txt',\n",
    "    'Nokia 6610.txt',\n",
    "    'Nikon coolpix 4300.txt',\n",
    "]\n",
    "data_dir = join(os.getcwd(), \"..\", \"resources\", \"data\", \"MovieReviews\", \"cr\")"
   ]
  },
  {
   "cell_type": "code",
   "execution_count": 6,
   "metadata": {},
   "outputs": [],
   "source": [
    "def produce_line(_line):\n",
    "    _line = _line.strip()\n",
    "    _line = _line.lower()\n",
    "    _token = nltk.word_tokenize(_line)\n",
    "    return _token\n",
    "\n",
    "\n",
    "def pro_file(file, pos_list, neg_list):\n",
    "    with open(file, 'r') as f:\n",
    "        for item in f:\n",
    "            item = item.strip()\n",
    "            f_p = 0\n",
    "            f_n = 0\n",
    "            f_p = item.find('[+')\n",
    "            f_n = item.find('[-')\n",
    "            if f_p != -1:\n",
    "                pos = item.find('##') + 2\n",
    "                line_text = item[pos:]\n",
    "                line_list = produce_line(line_text)\n",
    "                l = len(line_list)\n",
    "                if l <= 1500000000 and l > 1:\n",
    "                    pos_list.append(line_list)\n",
    "            # print('===============')\n",
    "            # print(line_text)\n",
    "            # print(item)\n",
    "            # input()\n",
    "            if f_n != -1:\n",
    "                pos = item.find('##') + 2\n",
    "                line_text = item[pos:]\n",
    "                line_list = produce_line(line_text)\n",
    "                l = len(line_list)\n",
    "                if l <= 1500000000000 and l > 1:\n",
    "                    neg_list.append(line_list)\n",
    "            # print('===============')\n",
    "            # print(line_text)\n",
    "            # print(item)\n",
    "            # input()\n",
    "    return pos_list, neg_list"
   ]
  },
  {
   "cell_type": "code",
   "execution_count": 7,
   "metadata": {},
   "outputs": [],
   "source": [
    "pos_list = []\n",
    "neg_list = []\n",
    "\n",
    "for file_i in file:\n",
    "    pos_list, neg_list = pro_file(os.path.join(data_dir, \"Reviews-9-products\", file_i), pos_list, neg_list)"
   ]
  },
  {
   "cell_type": "code",
   "execution_count": 8,
   "metadata": {},
   "outputs": [],
   "source": [
    "df = pd.DataFrame(list(zip(np.concatenate([np.ones(len(pos_list), dtype=int), np.zeros(len(neg_list), dtype=int)]), pos_list + neg_list)), columns=[\"sentiment\", \"text\"])"
   ]
  },
  {
   "cell_type": "markdown",
   "metadata": {},
   "source": [
    "#### qua c'è la cosa della lunghezza"
   ]
  },
  {
   "cell_type": "code",
   "execution_count": 9,
   "metadata": {},
   "outputs": [],
   "source": [
    "df['len'] = df['text'].apply(len)\n",
    "df = df[df['len'] <= 50]"
   ]
  },
  {
   "cell_type": "code",
   "execution_count": 10,
   "metadata": {},
   "outputs": [
    {
     "data": {
      "text/plain": [
       "3712"
      ]
     },
     "execution_count": 10,
     "metadata": {},
     "output_type": "execute_result"
    }
   ],
   "source": [
    "len(df)"
   ]
  },
  {
   "cell_type": "code",
   "execution_count": 11,
   "metadata": {},
   "outputs": [],
   "source": [
    "token_list = [x for sent in df['text'] for x in sent]"
   ]
  },
  {
   "cell_type": "code",
   "execution_count": 12,
   "metadata": {},
   "outputs": [
    {
     "data": {
      "text/plain": [
       "['i', 'want', 'to', 'start', 'off', 'saying', 'that', 'this', 'camera', 'is']"
      ]
     },
     "execution_count": 12,
     "metadata": {},
     "output_type": "execute_result"
    }
   ],
   "source": [
    "token_list[:10]"
   ]
  },
  {
   "cell_type": "code",
   "execution_count": 13,
   "metadata": {},
   "outputs": [],
   "source": [
    "from collections import Counter \n",
    "def removeElements(lst, k): \n",
    "    counted = Counter(lst) \n",
    "    return [el for el in lst if counted[el] >= k] \n",
    "\n",
    "token_list_removed = removeElements(token_list, 10) #at least 10 times"
   ]
  },
  {
   "cell_type": "code",
   "execution_count": 14,
   "metadata": {},
   "outputs": [],
   "source": [
    "word_set = list(dict.fromkeys(set(token_list)))\n",
    "[word_index_dict, index_word_dict] = get_dict(word_set)\n",
    "sequence_len = len(max(df['text'], key=len))"
   ]
  },
  {
   "cell_type": "code",
   "execution_count": 15,
   "metadata": {},
   "outputs": [],
   "source": [
    "def apply_text_to_code(x):\n",
    "    tokenization = nltk.word_tokenize(x.lower())\n",
    "    eof_code = len(word_index_dict)  # used to filled in the blank to make up a sentence with seq_len\n",
    "    index = 0\n",
    "    code_int = []\n",
    "    for word in tokenization:\n",
    "        try:\n",
    "            code_int.append(int(word_index_dict[word]))\n",
    "        except KeyError:\n",
    "            print(\"sta eliminando qualcosa: {}\".format(word))\n",
    "            return np.nan\n",
    "        index += 1\n",
    "    while index < sequence_len:\n",
    "        code_int.append(int(eof_code))\n",
    "        index += 1\n",
    "    return code_int"
   ]
  },
  {
   "cell_type": "code",
   "execution_count": 16,
   "metadata": {},
   "outputs": [],
   "source": [
    "df['text'] = df['text'].apply(lambda x: \" \".join(x))\n",
    "df['tokenized_text'] = df['text'].apply(lambda x: apply_text_to_code(x))\n",
    "df.dropna(inplace=True)"
   ]
  },
  {
   "cell_type": "code",
   "execution_count": 17,
   "metadata": {},
   "outputs": [],
   "source": [
    "df.to_csv(join(data_dir, 'train' + '.csv'))"
   ]
  },
  {
   "cell_type": "code",
   "execution_count": 20,
   "metadata": {},
   "outputs": [
    {
     "data": {
      "text/plain": [
       "50"
      ]
     },
     "execution_count": 20,
     "metadata": {},
     "output_type": "execute_result"
    }
   ],
   "source": [
    "sequence_len"
   ]
  },
  {
   "cell_type": "code",
   "execution_count": 21,
   "metadata": {},
   "outputs": [],
   "source": [
    "config_dict = {}\n",
    "config_dict['seq_len'] = sequence_len\n",
    "config_dict['vocabulary_size'] = len(word_index_dict) + 1\n",
    "config_dict['sentiment_num'] = max(df['sentiment']) + 1\n",
    "\n",
    "write_json(join(data_dir, 'word_index_dict.json'), word_index_dict)\n",
    "write_json(join(data_dir, 'index_word_dict.json'), index_word_dict)\n",
    "write_json(join(data_dir, 'config.json'), config_dict)"
   ]
  },
  {
   "cell_type": "code",
   "execution_count": 22,
   "metadata": {},
   "outputs": [
    {
     "data": {
      "text/html": [
       "<div>\n",
       "<style scoped>\n",
       "    .dataframe tbody tr th:only-of-type {\n",
       "        vertical-align: middle;\n",
       "    }\n",
       "\n",
       "    .dataframe tbody tr th {\n",
       "        vertical-align: top;\n",
       "    }\n",
       "\n",
       "    .dataframe thead th {\n",
       "        text-align: right;\n",
       "    }\n",
       "</style>\n",
       "<table border=\"1\" class=\"dataframe\">\n",
       "  <thead>\n",
       "    <tr style=\"text-align: right;\">\n",
       "      <th></th>\n",
       "      <th>sentiment</th>\n",
       "      <th>text</th>\n",
       "      <th>len</th>\n",
       "      <th>tokenized_text</th>\n",
       "    </tr>\n",
       "  </thead>\n",
       "  <tbody>\n",
       "    <tr>\n",
       "      <td>0</td>\n",
       "      <td>1</td>\n",
       "      <td>i want to start off saying that this camera is...</td>\n",
       "      <td>15</td>\n",
       "      <td>[3311, 4468, 2993, 4585, 5141, 760, 452, 3568,...</td>\n",
       "    </tr>\n",
       "    <tr>\n",
       "      <td>1</td>\n",
       "      <td>1</td>\n",
       "      <td>i 'm in high school , and this camera is perfe...</td>\n",
       "      <td>44</td>\n",
       "      <td>[3311, 2822, 2734, 3014, 4102, 1897, 800, 3568...</td>\n",
       "    </tr>\n",
       "    <tr>\n",
       "      <td>2</td>\n",
       "      <td>1</td>\n",
       "      <td>i 'd say that this camera is perfect .</td>\n",
       "      <td>9</td>\n",
       "      <td>[3311, 3535, 2084, 452, 3568, 3927, 4870, 5364...</td>\n",
       "    </tr>\n",
       "    <tr>\n",
       "      <td>3</td>\n",
       "      <td>1</td>\n",
       "      <td>ok , not quite everything ... but this camera ...</td>\n",
       "      <td>25</td>\n",
       "      <td>[2307, 1897, 5520, 1544, 189, 5580, 3409, 3568...</td>\n",
       "    </tr>\n",
       "    <tr>\n",
       "      <td>4</td>\n",
       "      <td>1</td>\n",
       "      <td>i bought this camera for the same reason many ...</td>\n",
       "      <td>25</td>\n",
       "      <td>[3311, 1759, 3568, 3927, 2950, 1810, 3275, 67,...</td>\n",
       "    </tr>\n",
       "    <tr>\n",
       "      <td>...</td>\n",
       "      <td>...</td>\n",
       "      <td>...</td>\n",
       "      <td>...</td>\n",
       "      <td>...</td>\n",
       "    </tr>\n",
       "    <tr>\n",
       "      <td>3785</td>\n",
       "      <td>0</td>\n",
       "      <td>on average , indoor shots with a flash are not...</td>\n",
       "      <td>16</td>\n",
       "      <td>[2114, 3781, 1897, 1932, 2613, 1037, 4486, 142...</td>\n",
       "    </tr>\n",
       "    <tr>\n",
       "      <td>3786</td>\n",
       "      <td>0</td>\n",
       "      <td>i only have one complaint , and that is the 8m...</td>\n",
       "      <td>14</td>\n",
       "      <td>[3311, 4040, 2643, 3359, 5447, 1897, 800, 452,...</td>\n",
       "    </tr>\n",
       "    <tr>\n",
       "      <td>3787</td>\n",
       "      <td>0</td>\n",
       "      <td>8mb for a camera like this is a joke .</td>\n",
       "      <td>10</td>\n",
       "      <td>[4899, 2950, 4486, 3927, 5352, 3568, 4870, 448...</td>\n",
       "    </tr>\n",
       "    <tr>\n",
       "      <td>3788</td>\n",
       "      <td>0</td>\n",
       "      <td>1 no direct firewire to the camera .</td>\n",
       "      <td>8</td>\n",
       "      <td>[5388, 3263, 1181, 4163, 2993, 1810, 3927, 539...</td>\n",
       "    </tr>\n",
       "    <tr>\n",
       "      <td>3789</td>\n",
       "      <td>0</td>\n",
       "      <td>2 the camera is so small that when you attach ...</td>\n",
       "      <td>28</td>\n",
       "      <td>[3772, 1810, 3927, 4870, 5515, 1468, 452, 3133...</td>\n",
       "    </tr>\n",
       "  </tbody>\n",
       "</table>\n",
       "<p>3712 rows × 4 columns</p>\n",
       "</div>"
      ],
      "text/plain": [
       "      sentiment                                               text  len  \\\n",
       "0             1  i want to start off saying that this camera is...   15   \n",
       "1             1  i 'm in high school , and this camera is perfe...   44   \n",
       "2             1             i 'd say that this camera is perfect .    9   \n",
       "3             1  ok , not quite everything ... but this camera ...   25   \n",
       "4             1  i bought this camera for the same reason many ...   25   \n",
       "...         ...                                                ...  ...   \n",
       "3785          0  on average , indoor shots with a flash are not...   16   \n",
       "3786          0  i only have one complaint , and that is the 8m...   14   \n",
       "3787          0             8mb for a camera like this is a joke .   10   \n",
       "3788          0               1 no direct firewire to the camera .    8   \n",
       "3789          0  2 the camera is so small that when you attach ...   28   \n",
       "\n",
       "                                         tokenized_text  \n",
       "0     [3311, 4468, 2993, 4585, 5141, 760, 452, 3568,...  \n",
       "1     [3311, 2822, 2734, 3014, 4102, 1897, 800, 3568...  \n",
       "2     [3311, 3535, 2084, 452, 3568, 3927, 4870, 5364...  \n",
       "3     [2307, 1897, 5520, 1544, 189, 5580, 3409, 3568...  \n",
       "4     [3311, 1759, 3568, 3927, 2950, 1810, 3275, 67,...  \n",
       "...                                                 ...  \n",
       "3785  [2114, 3781, 1897, 1932, 2613, 1037, 4486, 142...  \n",
       "3786  [3311, 4040, 2643, 3359, 5447, 1897, 800, 452,...  \n",
       "3787  [4899, 2950, 4486, 3927, 5352, 3568, 4870, 448...  \n",
       "3788  [5388, 3263, 1181, 4163, 2993, 1810, 3927, 539...  \n",
       "3789  [3772, 1810, 3927, 4870, 5515, 1468, 452, 3133...  \n",
       "\n",
       "[3712 rows x 4 columns]"
      ]
     },
     "execution_count": 22,
     "metadata": {},
     "output_type": "execute_result"
    }
   ],
   "source": [
    "df"
   ]
  }
 ],
 "metadata": {
  "kernelspec": {
   "display_name": "Python 3",
   "language": "python",
   "name": "python3"
  },
  "language_info": {
   "codemirror_mode": {
    "name": "ipython",
    "version": 3
   },
   "file_extension": ".py",
   "mimetype": "text/x-python",
   "name": "python",
   "nbconvert_exporter": "python",
   "pygments_lexer": "ipython3",
   "version": "3.6.9"
  }
 },
 "nbformat": 4,
 "nbformat_minor": 2
}
