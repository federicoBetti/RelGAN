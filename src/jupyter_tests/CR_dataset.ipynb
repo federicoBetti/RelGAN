{
 "cells": [
  {
   "cell_type": "code",
   "execution_count": 1,
   "metadata": {},
   "outputs": [
    {
     "name": "stdout",
     "output_type": "stream",
     "text": [
      "C:\\Users\\feder\\Documents\\GitHub\\relgan\\src\\jupyter_tests\n"
     ]
    }
   ],
   "source": [
    "import os\n",
    "cwd = os.getcwd()\n",
    "print(cwd)"
   ]
  },
  {
   "cell_type": "code",
   "execution_count": 2,
   "metadata": {},
   "outputs": [
    {
     "name": "stdout",
     "output_type": "stream",
     "text": [
      "C:\\Users\\feder\\Documents\\GitHub\\relgan\\src\n"
     ]
    }
   ],
   "source": [
    "os.chdir(\"..\")\n",
    "cwd = os.getcwd()\n",
    "print(cwd)\n",
    "assert cwd.endswith(\"src\")"
   ]
  },
  {
   "cell_type": "markdown",
   "metadata": {},
   "source": [
    "# CR dataset management"
   ]
  },
  {
   "cell_type": "code",
   "execution_count": 28,
   "metadata": {},
   "outputs": [],
   "source": [
    "import nltk, pandas as pd, numpy as np\n",
    "from os.path import join\n",
    "from tqdm import tqdm\n",
    "from utils.text_process import get_word_list, get_dict, text_to_code\n",
    "from utils.static_file_manage import write_json"
   ]
  },
  {
   "cell_type": "code",
   "execution_count": 48,
   "metadata": {},
   "outputs": [],
   "source": [
    "file = [\n",
    "    'Apex AD2600 Progressive-scan DVD player.txt',\n",
    "    'Canon G3.txt',\n",
    "    'Creative Labs Nomad Jukebox Zen Xtra 40GB.txt',\n",
    "    'Nokia 6610.txt',\n",
    "    'Nikon coolpix 4300.txt',\n",
    "]\n",
    "data_dir = join(os.getcwd(), \"..\", \"resources\", \"data\", \"MovieReviews\", \"cr\")"
   ]
  },
  {
   "cell_type": "code",
   "execution_count": 7,
   "metadata": {},
   "outputs": [],
   "source": [
    "def produce_line(_line):\n",
    "    _line = _line.strip()\n",
    "    _line = _line.lower()\n",
    "    _token = nltk.word_tokenize(_line)\n",
    "    return _token\n",
    "\n",
    "\n",
    "def pro_file(file, pos_list, neg_list):\n",
    "    with open(file, 'r') as f:\n",
    "        for item in f:\n",
    "            item = item.strip()\n",
    "            f_p = 0\n",
    "            f_n = 0\n",
    "            f_p = item.find('[+')\n",
    "            f_n = item.find('[-')\n",
    "            if f_p != -1:\n",
    "                pos = item.find('##') + 2\n",
    "                line_text = item[pos:]\n",
    "                line_list = produce_line(line_text)\n",
    "                l = len(line_list)\n",
    "                if l <= 1500000000 and l > 1:\n",
    "                    pos_list.append(line_list)\n",
    "            # print('===============')\n",
    "            # print(line_text)\n",
    "            # print(item)\n",
    "            # input()\n",
    "            if f_n != -1:\n",
    "                pos = item.find('##') + 2\n",
    "                line_text = item[pos:]\n",
    "                line_list = produce_line(line_text)\n",
    "                l = len(line_list)\n",
    "                if l <= 1500000000000 and l > 1:\n",
    "                    neg_list.append(line_list)\n",
    "            # print('===============')\n",
    "            # print(line_text)\n",
    "            # print(item)\n",
    "            # input()\n",
    "    return pos_list, neg_list"
   ]
  },
  {
   "cell_type": "code",
   "execution_count": 13,
   "metadata": {},
   "outputs": [],
   "source": [
    "pos_list = []\n",
    "neg_list = []\n",
    "\n",
    "for file_i in file:\n",
    "    pos_list, neg_list = pro_file(os.path.join(data_dir, \"Reviews-9-products\", file_i), pos_list, neg_list)"
   ]
  },
  {
   "cell_type": "code",
   "execution_count": 14,
   "metadata": {},
   "outputs": [],
   "source": [
    "df = pd.DataFrame(list(zip(np.concatenate([np.ones(len(pos_list), dtype=int), np.zeros(len(neg_list), dtype=int)]), pos_list + neg_list)), columns=[\"sentiment\", \"text\"])"
   ]
  },
  {
   "cell_type": "code",
   "execution_count": 19,
   "metadata": {},
   "outputs": [],
   "source": [
    "df['len'] = df['text'].apply(len)\n",
    "df = df[df['len'] <= 15]"
   ]
  },
  {
   "cell_type": "code",
   "execution_count": 21,
   "metadata": {},
   "outputs": [],
   "source": [
    "token_list = [x for sent in df['text'] for x in sent]"
   ]
  },
  {
   "cell_type": "code",
   "execution_count": 23,
   "metadata": {},
   "outputs": [],
   "source": [
    "from collections import Counter \n",
    "def removeElements(lst, k): \n",
    "    counted = Counter(lst) \n",
    "    return [el for el in lst if counted[el] >= k] \n",
    "\n",
    "token_list_removed = removeElements(token_list, 10) #at least 10 times"
   ]
  },
  {
   "cell_type": "code",
   "execution_count": 38,
   "metadata": {},
   "outputs": [],
   "source": [
    "word_set = list(dict.fromkeys(set(token_list)))\n",
    "[word_index_dict, index_word_dict] = get_dict(word_set)\n",
    "sequence_len = len(max(token_list, key=len))"
   ]
  },
  {
   "cell_type": "code",
   "execution_count": 44,
   "metadata": {},
   "outputs": [],
   "source": [
    "def apply_text_to_code(x):\n",
    "    tokenization = nltk.word_tokenize(x.lower())\n",
    "    eof_code = len(word_index_dict)  # used to filled in the blank to make up a sentence with seq_len\n",
    "    index = 0\n",
    "    code_int = []\n",
    "    for word in tokenization:\n",
    "        try:\n",
    "            code_int.append(int(word_index_dict[word]))\n",
    "        except KeyError:\n",
    "            return np.nan\n",
    "        index += 1\n",
    "    while index < sequence_len:\n",
    "        code_int.append(int(eof_code))\n",
    "        index += 1\n",
    "    return code_int"
   ]
  },
  {
   "cell_type": "code",
   "execution_count": 45,
   "metadata": {},
   "outputs": [
    {
     "name": "stderr",
     "output_type": "stream",
     "text": [
      "C:\\Users\\feder\\Anaconda3\\envs\\RelGAN\\lib\\site-packages\\ipykernel_launcher.py:1: SettingWithCopyWarning: \n",
      "A value is trying to be set on a copy of a slice from a DataFrame.\n",
      "Try using .loc[row_indexer,col_indexer] = value instead\n",
      "\n",
      "See the caveats in the documentation: http://pandas.pydata.org/pandas-docs/stable/user_guide/indexing.html#returning-a-view-versus-a-copy\n",
      "  \"\"\"Entry point for launching an IPython kernel.\n",
      "C:\\Users\\feder\\Anaconda3\\envs\\RelGAN\\lib\\site-packages\\ipykernel_launcher.py:2: SettingWithCopyWarning: \n",
      "A value is trying to be set on a copy of a slice from a DataFrame.\n",
      "Try using .loc[row_indexer,col_indexer] = value instead\n",
      "\n",
      "See the caveats in the documentation: http://pandas.pydata.org/pandas-docs/stable/user_guide/indexing.html#returning-a-view-versus-a-copy\n",
      "  \n",
      "C:\\Users\\feder\\Anaconda3\\envs\\RelGAN\\lib\\site-packages\\ipykernel_launcher.py:3: SettingWithCopyWarning: \n",
      "A value is trying to be set on a copy of a slice from a DataFrame\n",
      "\n",
      "See the caveats in the documentation: http://pandas.pydata.org/pandas-docs/stable/user_guide/indexing.html#returning-a-view-versus-a-copy\n",
      "  This is separate from the ipykernel package so we can avoid doing imports until\n"
     ]
    }
   ],
   "source": [
    "df['text'] = df['text'].apply(lambda x: \" \".join(x))\n",
    "df['tokenized_text'] = df['text'].apply(lambda x: apply_text_to_code(x))\n",
    "df.dropna(inplace=True)"
   ]
  },
  {
   "cell_type": "code",
   "execution_count": 51,
   "metadata": {},
   "outputs": [],
   "source": [
    "df.to_csv(join(data_dir, 'train' + '.csv'))"
   ]
  },
  {
   "cell_type": "code",
   "execution_count": 54,
   "metadata": {},
   "outputs": [],
   "source": [
    "config_dict = {}\n",
    "config_dict['seq_len'] = sequence_len\n",
    "config_dict['vocabulary_size'] = len(word_index_dict) + 1\n",
    "config_dict['sentiment_num'] = max(df['sentiment']) + 1\n",
    "\n",
    "write_json(join(data_dir, 'word_index_dict.json'), word_index_dict)\n",
    "write_json(join(data_dir, 'index_word_dict.json'), index_word_dict)\n",
    "write_json(join(data_dir, 'config.json'), config_dict)"
   ]
  },
  {
   "cell_type": "code",
   "execution_count": 52,
   "metadata": {},
   "outputs": [
    {
     "data": {
      "text/html": [
       "<div>\n",
       "<style scoped>\n",
       "    .dataframe tbody tr th:only-of-type {\n",
       "        vertical-align: middle;\n",
       "    }\n",
       "\n",
       "    .dataframe tbody tr th {\n",
       "        vertical-align: top;\n",
       "    }\n",
       "\n",
       "    .dataframe thead th {\n",
       "        text-align: right;\n",
       "    }\n",
       "</style>\n",
       "<table border=\"1\" class=\"dataframe\">\n",
       "  <thead>\n",
       "    <tr style=\"text-align: right;\">\n",
       "      <th></th>\n",
       "      <th>sentiment</th>\n",
       "      <th>text</th>\n",
       "      <th>len</th>\n",
       "      <th>tokenized_text</th>\n",
       "    </tr>\n",
       "  </thead>\n",
       "  <tbody>\n",
       "    <tr>\n",
       "      <td>0</td>\n",
       "      <td>1</td>\n",
       "      <td>im a more happier person after discovering the...</td>\n",
       "      <td>11</td>\n",
       "      <td>[261, 971, 163, 1000, 241, 320, 120, 1274, 255...</td>\n",
       "    </tr>\n",
       "    <tr>\n",
       "      <td>2</td>\n",
       "      <td>1</td>\n",
       "      <td>it practically plays almost everything you giv...</td>\n",
       "      <td>9</td>\n",
       "      <td>[968, 399, 740, 46, 1049, 354, 767, 968, 712, ...</td>\n",
       "    </tr>\n",
       "    <tr>\n",
       "      <td>4</td>\n",
       "      <td>1</td>\n",
       "      <td>for the price it is a well spent investment !</td>\n",
       "      <td>10</td>\n",
       "      <td>[350, 1274, 175, 968, 745, 971, 1038, 1010, 11...</td>\n",
       "    </tr>\n",
       "    <tr>\n",
       "      <td>5</td>\n",
       "      <td>1</td>\n",
       "      <td>this is by far the nicest one , in so many ways .</td>\n",
       "      <td>13</td>\n",
       "      <td>[436, 745, 1349, 516, 1274, 390, 253, 114, 678...</td>\n",
       "    </tr>\n",
       "    <tr>\n",
       "      <td>8</td>\n",
       "      <td>1</td>\n",
       "      <td>it plays alternate video formats ( vcds , svcd...</td>\n",
       "      <td>15</td>\n",
       "      <td>[968, 740, 1165, 1098, 152, 542, 792, 114, 120...</td>\n",
       "    </tr>\n",
       "    <tr>\n",
       "      <td>...</td>\n",
       "      <td>...</td>\n",
       "      <td>...</td>\n",
       "      <td>...</td>\n",
       "      <td>...</td>\n",
       "    </tr>\n",
       "    <tr>\n",
       "      <td>1745</td>\n",
       "      <td>0</td>\n",
       "      <td>one downside though is that autofocus does not...</td>\n",
       "      <td>15</td>\n",
       "      <td>[253, 945, 254, 745, 499, 1197, 594, 234, 349,...</td>\n",
       "    </tr>\n",
       "    <tr>\n",
       "      <td>1748</td>\n",
       "      <td>0</td>\n",
       "      <td>it has a 3x optical zoom , which is average fo...</td>\n",
       "      <td>14</td>\n",
       "      <td>[968, 938, 971, 1117, 699, 1219, 114, 10, 745,...</td>\n",
       "    </tr>\n",
       "    <tr>\n",
       "      <td>1753</td>\n",
       "      <td>0</td>\n",
       "      <td>i only have one complaint , and that is the 8m...</td>\n",
       "      <td>14</td>\n",
       "      <td>[858, 479, 171, 253, 1079, 114, 1133, 499, 745...</td>\n",
       "    </tr>\n",
       "    <tr>\n",
       "      <td>1754</td>\n",
       "      <td>0</td>\n",
       "      <td>8mb for a camera like this is a joke .</td>\n",
       "      <td>10</td>\n",
       "      <td>[1203, 350, 971, 136, 826, 436, 745, 971, 1040...</td>\n",
       "    </tr>\n",
       "    <tr>\n",
       "      <td>1755</td>\n",
       "      <td>0</td>\n",
       "      <td>1 no direct firewire to the camera .</td>\n",
       "      <td>8</td>\n",
       "      <td>[222, 490, 1377, 428, 682, 1274, 136, 712, 138...</td>\n",
       "    </tr>\n",
       "  </tbody>\n",
       "</table>\n",
       "<p>739 rows × 4 columns</p>\n",
       "</div>"
      ],
      "text/plain": [
       "      sentiment                                               text  len  \\\n",
       "0             1  im a more happier person after discovering the...   11   \n",
       "2             1  it practically plays almost everything you giv...    9   \n",
       "4             1      for the price it is a well spent investment !   10   \n",
       "5             1  this is by far the nicest one , in so many ways .   13   \n",
       "8             1  it plays alternate video formats ( vcds , svcd...   15   \n",
       "...         ...                                                ...  ...   \n",
       "1745          0  one downside though is that autofocus does not...   15   \n",
       "1748          0  it has a 3x optical zoom , which is average fo...   14   \n",
       "1753          0  i only have one complaint , and that is the 8m...   14   \n",
       "1754          0             8mb for a camera like this is a joke .   10   \n",
       "1755          0               1 no direct firewire to the camera .    8   \n",
       "\n",
       "                                         tokenized_text  \n",
       "0     [261, 971, 163, 1000, 241, 320, 120, 1274, 255...  \n",
       "2     [968, 399, 740, 46, 1049, 354, 767, 968, 712, ...  \n",
       "4     [350, 1274, 175, 968, 745, 971, 1038, 1010, 11...  \n",
       "5     [436, 745, 1349, 516, 1274, 390, 253, 114, 678...  \n",
       "8     [968, 740, 1165, 1098, 152, 542, 792, 114, 120...  \n",
       "...                                                 ...  \n",
       "1745  [253, 945, 254, 745, 499, 1197, 594, 234, 349,...  \n",
       "1748  [968, 938, 971, 1117, 699, 1219, 114, 10, 745,...  \n",
       "1753  [858, 479, 171, 253, 1079, 114, 1133, 499, 745...  \n",
       "1754  [1203, 350, 971, 136, 826, 436, 745, 971, 1040...  \n",
       "1755  [222, 490, 1377, 428, 682, 1274, 136, 712, 138...  \n",
       "\n",
       "[739 rows x 4 columns]"
      ]
     },
     "execution_count": 52,
     "metadata": {},
     "output_type": "execute_result"
    }
   ],
   "source": [
    "df"
   ]
  }
 ],
 "metadata": {
  "kernelspec": {
   "display_name": "Python 3",
   "language": "python",
   "name": "python3"
  },
  "language_info": {
   "codemirror_mode": {
    "name": "ipython",
    "version": 3
   },
   "file_extension": ".py",
   "mimetype": "text/x-python",
   "name": "python",
   "nbconvert_exporter": "python",
   "pygments_lexer": "ipython3",
   "version": "3.6.9"
  }
 },
 "nbformat": 4,
 "nbformat_minor": 2
}
