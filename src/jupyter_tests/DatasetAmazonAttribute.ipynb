{
 "cells": [
  {
   "cell_type": "code",
   "execution_count": 2,
   "metadata": {
    "pycharm": {
     "is_executing": false
    }
   },
   "outputs": [
    {
     "name": "stdout",
     "output_type": "stream",
     "text": [
      "C:\\Users\\feder\\Documents\\GitHub\\relgan\\src\\jupyter_tests\n"
     ]
    }
   ],
   "source": [
    "import os\n",
    "cwd = os.getcwd()\n",
    "print(cwd)"
   ]
  },
  {
   "cell_type": "code",
   "execution_count": 3,
   "metadata": {
    "pycharm": {
     "is_executing": false
    }
   },
   "outputs": [
    {
     "name": "stdout",
     "output_type": "stream",
     "text": [
      "C:\\Users\\feder\\Documents\\GitHub\\relgan\\src\n"
     ]
    }
   ],
   "source": [
    "os.chdir(\"..\")\n",
    "cwd = os.getcwd()\n",
    "print(cwd)\n",
    "assert cwd.endswith(\"src\")"
   ]
  },
  {
   "cell_type": "markdown",
   "metadata": {},
   "source": [
    "# Data Analysis on the Amazon Attribute dataset"
   ]
  },
  {
   "cell_type": "code",
   "execution_count": 4,
   "metadata": {
    "pycharm": {
     "is_executing": false
    }
   },
   "outputs": [],
   "source": [
    "import pandas as pd\n",
    "import numpy as np\n",
    "from os.path import join\n",
    "import nltk\n",
    "from tqdm import tqdm\n",
    "from utils.text_process import get_word_list, get_dict, text_to_code\n",
    "from path_resolution import resources_path\n",
    "from utils.static_file_manage import write_json"
   ]
  },
  {
   "cell_type": "code",
   "execution_count": 5,
   "metadata": {
    "pycharm": {
     "is_executing": false
    }
   },
   "outputs": [],
   "source": [
    "data_dir = resources_path(\"data\", \"Amazon_Attribute\")"
   ]
  },
  {
   "cell_type": "markdown",
   "metadata": {},
   "source": [
    "### Dataset import"
   ]
  },
  {
   "cell_type": "code",
   "execution_count": 6,
   "metadata": {
    "pycharm": {
     "is_executing": false
    }
   },
   "outputs": [],
   "source": [
    "data = pd.read_csv(join(data_dir, 'full_datasets', 'train.txt'), sep=\"\\t\", header=None)\n",
    "data.columns = [\"user_id\", \"product_id\", \"rating\", \"review\"]"
   ]
  },
  {
   "cell_type": "code",
   "execution_count": 7,
   "metadata": {
    "pycharm": {
     "is_executing": false
    }
   },
   "outputs": [
    {
     "data": {
      "text/html": [
       "<div>\n",
       "<style scoped>\n",
       "    .dataframe tbody tr th:only-of-type {\n",
       "        vertical-align: middle;\n",
       "    }\n",
       "\n",
       "    .dataframe tbody tr th {\n",
       "        vertical-align: top;\n",
       "    }\n",
       "\n",
       "    .dataframe thead th {\n",
       "        text-align: right;\n",
       "    }\n",
       "</style>\n",
       "<table border=\"1\" class=\"dataframe\">\n",
       "  <thead>\n",
       "    <tr style=\"text-align: right;\">\n",
       "      <th></th>\n",
       "      <th>user_id</th>\n",
       "      <th>product_id</th>\n",
       "      <th>rating</th>\n",
       "      <th>review</th>\n",
       "    </tr>\n",
       "  </thead>\n",
       "  <tbody>\n",
       "    <tr>\n",
       "      <td>0</td>\n",
       "      <td>17362</td>\n",
       "      <td>41609</td>\n",
       "      <td>5.0</td>\n",
       "      <td>better than most -</td>\n",
       "    </tr>\n",
       "    <tr>\n",
       "      <td>1</td>\n",
       "      <td>19615</td>\n",
       "      <td>3908</td>\n",
       "      <td>5.0</td>\n",
       "      <td>i enjoy reading so good reading123 &lt;num&gt;</td>\n",
       "    </tr>\n",
       "    <tr>\n",
       "      <td>2</td>\n",
       "      <td>1996</td>\n",
       "      <td>33396</td>\n",
       "      <td>4.0</td>\n",
       "      <td>book bub . m . l .</td>\n",
       "    </tr>\n",
       "    <tr>\n",
       "      <td>3</td>\n",
       "      <td>7960</td>\n",
       "      <td>33396</td>\n",
       "      <td>4.0</td>\n",
       "      <td>good book , . z s a</td>\n",
       "    </tr>\n",
       "    <tr>\n",
       "      <td>4</td>\n",
       "      <td>5458</td>\n",
       "      <td>33595</td>\n",
       "      <td>4.0</td>\n",
       "      <td>you will be interested throughout your read.a</td>\n",
       "    </tr>\n",
       "  </tbody>\n",
       "</table>\n",
       "</div>"
      ],
      "text/plain": [
       "   user_id  product_id  rating                                         review\n",
       "0    17362       41609     5.0                             better than most -\n",
       "1    19615        3908     5.0       i enjoy reading so good reading123 <num>\n",
       "2     1996       33396     4.0                             book bub . m . l .\n",
       "3     7960       33396     4.0                            good book , . z s a\n",
       "4     5458       33595     4.0  you will be interested throughout your read.a"
      ]
     },
     "execution_count": 7,
     "metadata": {},
     "output_type": "execute_result"
    }
   ],
   "source": [
    "data.head()"
   ]
  },
  {
   "cell_type": "markdown",
   "metadata": {},
   "source": [
    "#### Compute product_ids and user_ids to remove because they occur too few times"
   ]
  },
  {
   "cell_type": "code",
   "execution_count": 8,
   "metadata": {
    "pycharm": {
     "is_executing": false
    }
   },
   "outputs": [],
   "source": [
    "product_count = data['product_id'].value_counts()\n",
    "product_id_keep = product_count[product_count.apply(lambda x: x>15)].index\n",
    "\n",
    "user_count = data['user_id'].value_counts()\n",
    "user_id_keep = user_count[user_count.apply(lambda x: x>6)].index"
   ]
  },
  {
   "cell_type": "code",
   "execution_count": 9,
   "metadata": {
    "pycharm": {
     "is_executing": false
    }
   },
   "outputs": [],
   "source": [
    "def remove_low_index(df, user_id_keep, product_id_keep):\n",
    "    df = df[df['user_id'].isin(user_id_keep)]\n",
    "    return df[df.product_id.isin(product_id_keep)]\n",
    "\n",
    "def add_tokenized_column():\n",
    "    pass"
   ]
  },
  {
   "cell_type": "code",
   "execution_count": 10,
   "metadata": {
    "pycharm": {
     "is_executing": false
    }
   },
   "outputs": [
    {
     "name": "stderr",
     "output_type": "stream",
     "text": [
      "100%|██████████████████████████████████████████████████████████████████████████████████████████████████████████████████████████████████████████████████████████████████████████████| 148282/148282 [00:51<00:00, 2856.49it/s]\n",
      "100%|████████████████████████████████████████████████████████████████████████████████████████████████████████████████████████████████████████████████████████████████████████████████| 63095/63095 [00:22<00:00, 2845.23it/s]\n",
      "100%|████████████████████████████████████████████████████████████████████████████████████████████████████████████████████████████████████████████████████████████████████████████████| 22644/22644 [00:07<00:00, 2905.42it/s]\n"
     ]
    }
   ],
   "source": [
    "token_list = []\n",
    "dataframes = []\n",
    "file_names = ['train.txt', 'test.txt', 'dev.txt']\n",
    "for file_name in file_names:\n",
    "    data = pd.read_csv(join(data_dir, 'full_datasets',file_name), sep=\"\\t\", header=None)\n",
    "    data.columns = [\"user_id\", \"product_id\", \"rating\", \"review\"]\n",
    "    data = remove_low_index(data, user_id_keep, product_id_keep)\n",
    "    for text in tqdm(data.review):\n",
    "        text = nltk.word_tokenize(text.lower())\n",
    "        token_list.append(text)\n",
    "    dataframes.append(data)\n",
    "    \n",
    "word_set = get_word_list(token_list)\n",
    "[word_index_dict, index_word_dict] = get_dict(word_set)\n",
    "sequence_len = len(max(token_list, key=len))\n",
    "    \n",
    "    \n",
    "# data.to_csv(join(data_dir, file_name[:-4] + '.csv'), sep='\\t')"
   ]
  },
  {
   "cell_type": "code",
   "execution_count": 33,
   "metadata": {},
   "outputs": [],
   "source": [
    "df = dataframes[0]\n",
    "sorted_users = np.sort(df.user_id.unique())\n",
    "user_remap = dict(zip(sorted_users, range(len(sorted_users))))\n",
    "sorted_products = np.sort(df.product_id.unique())\n",
    "product_remap = dict(zip(sorted_products, range(len(sorted_products))))"
   ]
  },
  {
   "cell_type": "code",
   "execution_count": 39,
   "metadata": {},
   "outputs": [
    {
     "data": {
      "text/plain": [
       "5055"
      ]
     },
     "execution_count": 39,
     "metadata": {},
     "output_type": "execute_result"
    }
   ],
   "source": [
    "len(sorted_products)"
   ]
  },
  {
   "cell_type": "code",
   "execution_count": 28,
   "metadata": {},
   "outputs": [
    {
     "data": {
      "text/html": [
       "<div>\n",
       "<style scoped>\n",
       "    .dataframe tbody tr th:only-of-type {\n",
       "        vertical-align: middle;\n",
       "    }\n",
       "\n",
       "    .dataframe tbody tr th {\n",
       "        vertical-align: top;\n",
       "    }\n",
       "\n",
       "    .dataframe thead th {\n",
       "        text-align: right;\n",
       "    }\n",
       "</style>\n",
       "<table border=\"1\" class=\"dataframe\">\n",
       "  <thead>\n",
       "    <tr style=\"text-align: right;\">\n",
       "      <th></th>\n",
       "      <th>user_id</th>\n",
       "      <th>product_id</th>\n",
       "      <th>rating</th>\n",
       "      <th>review</th>\n",
       "      <th>tokenized_text</th>\n",
       "    </tr>\n",
       "  </thead>\n",
       "  <tbody>\n",
       "    <tr>\n",
       "      <td>6</td>\n",
       "      <td>9200</td>\n",
       "      <td>77458</td>\n",
       "      <td>5.0</td>\n",
       "      <td>love this book too have read it again</td>\n",
       "      <td>0 1 2 3 4 5 6 7 80611 80611 80611 80611 80611 ...</td>\n",
       "    </tr>\n",
       "    <tr>\n",
       "      <td>14</td>\n",
       "      <td>10646</td>\n",
       "      <td>49714</td>\n",
       "      <td>5.0</td>\n",
       "      <td>i really enjoyed this book . : )</td>\n",
       "      <td>8 9 10 1 2 11 12 13 80611 80611 80611 80611 80...</td>\n",
       "    </tr>\n",
       "    <tr>\n",
       "      <td>37</td>\n",
       "      <td>7995</td>\n",
       "      <td>11002</td>\n",
       "      <td>5.0</td>\n",
       "      <td>fast paced and a load of action .</td>\n",
       "      <td>14 15 16 17 18 19 20 11 80611 80611 80611 8061...</td>\n",
       "    </tr>\n",
       "    <tr>\n",
       "      <td>46</td>\n",
       "      <td>1707</td>\n",
       "      <td>36253</td>\n",
       "      <td>4.0</td>\n",
       "      <td>fun , somewhat predictable , but very enjoyable</td>\n",
       "      <td>21 22 23 24 22 25 26 27 80611 80611 80611 8061...</td>\n",
       "    </tr>\n",
       "    <tr>\n",
       "      <td>76</td>\n",
       "      <td>15531</td>\n",
       "      <td>22206</td>\n",
       "      <td>5.0</td>\n",
       "      <td>great series.love hunter my favorite boyfriend...</td>\n",
       "      <td>28 29 30 31 32 33 34 11 80611 80611 80611 8061...</td>\n",
       "    </tr>\n",
       "  </tbody>\n",
       "</table>\n",
       "</div>"
      ],
      "text/plain": [
       "    user_id  product_id  rating  \\\n",
       "6      9200       77458     5.0   \n",
       "14    10646       49714     5.0   \n",
       "37     7995       11002     5.0   \n",
       "46     1707       36253     4.0   \n",
       "76    15531       22206     5.0   \n",
       "\n",
       "                                               review  \\\n",
       "6               love this book too have read it again   \n",
       "14                   i really enjoyed this book . : )   \n",
       "37                  fast paced and a load of action .   \n",
       "46    fun , somewhat predictable , but very enjoyable   \n",
       "76  great series.love hunter my favorite boyfriend...   \n",
       "\n",
       "                                       tokenized_text  \n",
       "6   0 1 2 3 4 5 6 7 80611 80611 80611 80611 80611 ...  \n",
       "14  8 9 10 1 2 11 12 13 80611 80611 80611 80611 80...  \n",
       "37  14 15 16 17 18 19 20 11 80611 80611 80611 8061...  \n",
       "46  21 22 23 24 22 25 26 27 80611 80611 80611 8061...  \n",
       "76  28 29 30 31 32 33 34 11 80611 80611 80611 8061...  "
      ]
     },
     "execution_count": 28,
     "metadata": {},
     "output_type": "execute_result"
    }
   ],
   "source": [
    "df.head()"
   ]
  },
  {
   "cell_type": "code",
   "execution_count": 49,
   "metadata": {
    "pycharm": {
     "is_executing": false,
     "name": "#%%\n"
    }
   },
   "outputs": [],
   "source": [
    "def apply_text_to_code(x):\n",
    "    tokenization = nltk.word_tokenize(x.lower())\n",
    "    eof_code = len(word_index_dict)  # used to filled in the blank to make up a sentence with seq_len\n",
    "    index = 0\n",
    "    code_int = []\n",
    "    for word in tokenization:\n",
    "        code_int.append(int(word_index_dict[word]))\n",
    "        index += 1\n",
    "    while index < sequence_len:\n",
    "        code_int.append(int(eof_code))\n",
    "        index += 1\n",
    "    return code_int\n",
    "    \n",
    "for df, file_name in zip(dataframes, file_names):\n",
    "    df.user_id = df.user_id.map(user_remap)\n",
    "    df.product_id = df.product_id.map(product_remap)\n",
    "    df['tokenized_text'] = df['review'].apply(lambda x: apply_text_to_code(x))\n"
   ]
  },
  {
   "cell_type": "code",
   "execution_count": 51,
   "metadata": {},
   "outputs": [
    {
     "data": {
      "text/html": [
       "<div>\n",
       "<style scoped>\n",
       "    .dataframe tbody tr th:only-of-type {\n",
       "        vertical-align: middle;\n",
       "    }\n",
       "\n",
       "    .dataframe tbody tr th {\n",
       "        vertical-align: top;\n",
       "    }\n",
       "\n",
       "    .dataframe thead th {\n",
       "        text-align: right;\n",
       "    }\n",
       "</style>\n",
       "<table border=\"1\" class=\"dataframe\">\n",
       "  <thead>\n",
       "    <tr style=\"text-align: right;\">\n",
       "      <th></th>\n",
       "      <th>user_id</th>\n",
       "      <th>product_id</th>\n",
       "      <th>rating</th>\n",
       "      <th>review</th>\n",
       "      <th>tokenized_text</th>\n",
       "    </tr>\n",
       "  </thead>\n",
       "  <tbody>\n",
       "    <tr>\n",
       "      <td>6</td>\n",
       "      <td>6521.0</td>\n",
       "      <td>NaN</td>\n",
       "      <td>5.0</td>\n",
       "      <td>love this book too have read it again</td>\n",
       "      <td>[0, 1, 2, 3, 4, 5, 6, 7, 80611, 80611, 80611, ...</td>\n",
       "    </tr>\n",
       "    <tr>\n",
       "      <td>14</td>\n",
       "      <td>7557.0</td>\n",
       "      <td>NaN</td>\n",
       "      <td>5.0</td>\n",
       "      <td>i really enjoyed this book . : )</td>\n",
       "      <td>[8, 9, 10, 1, 2, 11, 12, 13, 80611, 80611, 806...</td>\n",
       "    </tr>\n",
       "    <tr>\n",
       "      <td>37</td>\n",
       "      <td>5667.0</td>\n",
       "      <td>NaN</td>\n",
       "      <td>5.0</td>\n",
       "      <td>fast paced and a load of action .</td>\n",
       "      <td>[14, 15, 16, 17, 18, 19, 20, 11, 80611, 80611,...</td>\n",
       "    </tr>\n",
       "    <tr>\n",
       "      <td>46</td>\n",
       "      <td>1208.0</td>\n",
       "      <td>NaN</td>\n",
       "      <td>4.0</td>\n",
       "      <td>fun , somewhat predictable , but very enjoyable</td>\n",
       "      <td>[21, 22, 23, 24, 22, 25, 26, 27, 80611, 80611,...</td>\n",
       "    </tr>\n",
       "    <tr>\n",
       "      <td>76</td>\n",
       "      <td>NaN</td>\n",
       "      <td>NaN</td>\n",
       "      <td>5.0</td>\n",
       "      <td>great series.love hunter my favorite boyfriend...</td>\n",
       "      <td>[28, 29, 30, 31, 32, 33, 34, 11, 80611, 80611,...</td>\n",
       "    </tr>\n",
       "  </tbody>\n",
       "</table>\n",
       "</div>"
      ],
      "text/plain": [
       "    user_id  product_id  rating  \\\n",
       "6    6521.0         NaN     5.0   \n",
       "14   7557.0         NaN     5.0   \n",
       "37   5667.0         NaN     5.0   \n",
       "46   1208.0         NaN     4.0   \n",
       "76      NaN         NaN     5.0   \n",
       "\n",
       "                                               review  \\\n",
       "6               love this book too have read it again   \n",
       "14                   i really enjoyed this book . : )   \n",
       "37                  fast paced and a load of action .   \n",
       "46    fun , somewhat predictable , but very enjoyable   \n",
       "76  great series.love hunter my favorite boyfriend...   \n",
       "\n",
       "                                       tokenized_text  \n",
       "6   [0, 1, 2, 3, 4, 5, 6, 7, 80611, 80611, 80611, ...  \n",
       "14  [8, 9, 10, 1, 2, 11, 12, 13, 80611, 80611, 806...  \n",
       "37  [14, 15, 16, 17, 18, 19, 20, 11, 80611, 80611,...  \n",
       "46  [21, 22, 23, 24, 22, 25, 26, 27, 80611, 80611,...  \n",
       "76  [28, 29, 30, 31, 32, 33, 34, 11, 80611, 80611,...  "
      ]
     },
     "execution_count": 51,
     "metadata": {},
     "output_type": "execute_result"
    }
   ],
   "source": [
    "dataframes[0].head()"
   ]
  },
  {
   "cell_type": "code",
   "execution_count": 13,
   "metadata": {
    "pycharm": {
     "is_executing": false,
     "name": "#%%\n"
    }
   },
   "outputs": [],
   "source": [
    "for df, file_name in zip(dataframes, file_names):\n",
    "    df.to_csv(join(data_dir, file_name[:-4] + '.csv'))"
   ]
  },
  {
   "cell_type": "code",
   "execution_count": 50,
   "metadata": {
    "pycharm": {
     "is_executing": false,
     "name": "#%%\n"
    }
   },
   "outputs": [],
   "source": [
    "config_dict = {}\n",
    "config_dict['seq_len'] = sequence_len\n",
    "config_dict['vocabulary_size'] = len(word_index_dict)\n",
    "config_dict['user_num'] = len(sorted_users)\n",
    "config_dict['product_num'] = len(sorted_products)\n",
    "\n",
    "write_json(join(data_dir, 'word_index_dict.json'), word_index_dict)\n",
    "write_json(join(data_dir, 'index_word_dict.json'), index_word_dict)\n",
    "write_json(join(data_dir, 'config.json'), config_dict)\n"
   ]
  },
  {
   "cell_type": "code",
   "execution_count": 15,
   "metadata": {
    "pycharm": {
     "is_executing": false,
     "name": "#%%\n"
    }
   },
   "outputs": [],
   "source": [
    "batch_size = 64\n",
    "df = dataframes[0]\n",
    "token_stream = df[['user_id', 'product_id', 'rating', 'tokenized_text']].values"
   ]
  },
  {
   "cell_type": "code",
   "execution_count": 16,
   "metadata": {
    "pycharm": {
     "is_executing": false,
     "name": "#%%\n"
    }
   },
   "outputs": [
    {
     "data": {
      "text/html": [
       "<div>\n",
       "<style scoped>\n",
       "    .dataframe tbody tr th:only-of-type {\n",
       "        vertical-align: middle;\n",
       "    }\n",
       "\n",
       "    .dataframe tbody tr th {\n",
       "        vertical-align: top;\n",
       "    }\n",
       "\n",
       "    .dataframe thead th {\n",
       "        text-align: right;\n",
       "    }\n",
       "</style>\n",
       "<table border=\"1\" class=\"dataframe\">\n",
       "  <thead>\n",
       "    <tr style=\"text-align: right;\">\n",
       "      <th></th>\n",
       "      <th>user_id</th>\n",
       "      <th>product_id</th>\n",
       "      <th>rating</th>\n",
       "      <th>review</th>\n",
       "      <th>tokenized_text</th>\n",
       "    </tr>\n",
       "  </thead>\n",
       "  <tbody>\n",
       "    <tr>\n",
       "      <td>2</td>\n",
       "      <td>2351</td>\n",
       "      <td>64952</td>\n",
       "      <td>5.0</td>\n",
       "      <td>really like all of the joe dillard series</td>\n",
       "      <td>9 135 122 19 38 2542 8216 39 80611 80611 80611...</td>\n",
       "    </tr>\n",
       "    <tr>\n",
       "      <td>3</td>\n",
       "      <td>7874</td>\n",
       "      <td>42996</td>\n",
       "      <td>1.0</td>\n",
       "      <td>pretty terrible . at least it was ago</td>\n",
       "      <td>100 240 11 254 1805 6 113 199 80611 80611 8061...</td>\n",
       "    </tr>\n",
       "    <tr>\n",
       "      <td>14</td>\n",
       "      <td>4851</td>\n",
       "      <td>12597</td>\n",
       "      <td>5.0</td>\n",
       "      <td>excellent read ! will continue the series .</td>\n",
       "      <td>191 5 52 148 149 38 39 11 80611 80611 80611 80...</td>\n",
       "    </tr>\n",
       "    <tr>\n",
       "      <td>20</td>\n",
       "      <td>7535</td>\n",
       "      <td>46067</td>\n",
       "      <td>5.0</td>\n",
       "      <td>omg , this was a great read .</td>\n",
       "      <td>234 22 1 113 17 28 5 11 80611 80611 80611 8061...</td>\n",
       "    </tr>\n",
       "    <tr>\n",
       "      <td>27</td>\n",
       "      <td>11019</td>\n",
       "      <td>74303</td>\n",
       "      <td>5.0</td>\n",
       "      <td>really cute . loved it start to finish</td>\n",
       "      <td>9 425 11 112 6 71 37 72 80611 80611 80611 8061...</td>\n",
       "    </tr>\n",
       "  </tbody>\n",
       "</table>\n",
       "</div>"
      ],
      "text/plain": [
       "    user_id  product_id  rating                                       review  \\\n",
       "2      2351       64952     5.0    really like all of the joe dillard series   \n",
       "3      7874       42996     1.0        pretty terrible . at least it was ago   \n",
       "14     4851       12597     5.0  excellent read ! will continue the series .   \n",
       "20     7535       46067     5.0                omg , this was a great read .   \n",
       "27    11019       74303     5.0       really cute . loved it start to finish   \n",
       "\n",
       "                                       tokenized_text  \n",
       "2   9 135 122 19 38 2542 8216 39 80611 80611 80611...  \n",
       "3   100 240 11 254 1805 6 113 199 80611 80611 8061...  \n",
       "14  191 5 52 148 149 38 39 11 80611 80611 80611 80...  \n",
       "20  234 22 1 113 17 28 5 11 80611 80611 80611 8061...  \n",
       "27  9 425 11 112 6 71 37 72 80611 80611 80611 8061...  "
      ]
     },
     "execution_count": 16,
     "metadata": {},
     "output_type": "execute_result"
    }
   ],
   "source": [
    "dataframes[1].head()"
   ]
  },
  {
   "cell_type": "code",
   "execution_count": 17,
   "metadata": {
    "pycharm": {
     "is_executing": false,
     "name": "#%%\n"
    }
   },
   "outputs": [],
   "source": [
    "num_batch = int(len(token_stream) / batch_size)\n",
    "token_stream = token_stream[:num_batch * batch_size]\n",
    "sequence_batches = np.split(np.array(token_stream), num_batch, axis=0)"
   ]
  },
  {
   "cell_type": "code",
   "execution_count": 19,
   "metadata": {
    "pycharm": {
     "is_executing": false,
     "name": "#%%\n"
    }
   },
   "outputs": [
    {
     "data": {
      "text/plain": [
       "array([9200, 77458, 5.0,\n",
       "       '0 1 2 3 4 5 6 7 80611 80611 80611 80611 80611 80611 80611 80611 80611 80611 80611 80611 80611 80611 80611 80611 80611 80611 80611 80611 80611 80611 80611 80611 80611 80611 80611 80611 80611 80611 80611 80611 80611 80611 80611 80611 80611 80611 80611 80611 80611 80611 80611 80611 80611 80611 80611 80611 80611 80611 80611 80611 80611 80611 80611 80611 80611 80611 80611 80611 80611 80611 80611 80611 \\n'],\n",
       "      dtype=object)"
      ]
     },
     "execution_count": 19,
     "metadata": {},
     "output_type": "execute_result"
    }
   ],
   "source": [
    "sequence_batches[0][0]"
   ]
  },
  {
   "cell_type": "code",
   "execution_count": null,
   "metadata": {},
   "outputs": [],
   "source": []
  }
 ],
 "metadata": {
  "kernelspec": {
   "display_name": "Python 3",
   "language": "python",
   "name": "python3"
  },
  "language_info": {
   "codemirror_mode": {
    "name": "ipython",
    "version": 3
   },
   "file_extension": ".py",
   "mimetype": "text/x-python",
   "name": "python",
   "nbconvert_exporter": "python",
   "pygments_lexer": "ipython3",
   "version": "3.6.9"
  },
  "pycharm": {
   "stem_cell": {
    "cell_type": "raw",
    "metadata": {
     "collapsed": false
    },
    "source": []
   }
  }
 },
 "nbformat": 4,
 "nbformat_minor": 1
}
