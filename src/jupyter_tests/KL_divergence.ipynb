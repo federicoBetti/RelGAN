{
 "cells": [
  {
   "cell_type": "markdown",
   "metadata": {
    "collapsed": true
   },
   "source": [
    "#### This is used to go in the same directory as when everything is run under Pycharm in a normal python file"
   ]
  },
  {
   "cell_type": "code",
   "execution_count": 1,
   "metadata": {
    "pycharm": {
     "is_executing": true,
     "name": "#%%\n"
    }
   },
   "outputs": [
    {
     "name": "stdout",
     "output_type": "stream",
     "text": [
      "C:\\Users\\Fede\\Documents\\GitHub\\RelGAN\\src\\jupyter_tests\n"
     ]
    }
   ],
   "source": [
    "import os\n",
    "cwd = os.getcwd()\n",
    "print(cwd)"
   ]
  },
  {
   "cell_type": "code",
   "execution_count": 2,
   "metadata": {
    "pycharm": {
     "name": "#%%\n"
    }
   },
   "outputs": [
    {
     "name": "stdout",
     "output_type": "stream",
     "text": [
      "C:\\Users\\Fede\\Documents\\GitHub\\RelGAN\\src\n"
     ]
    }
   ],
   "source": [
    "os.chdir(\"..\")\n",
    "cwd = os.getcwd()\n",
    "print(cwd)\n",
    "assert cwd.endswith(\"src\")"
   ]
  },
  {
   "cell_type": "markdown",
   "metadata": {},
   "source": [
    "# Test on KL divergence"
   ]
  },
  {
   "cell_type": "code",
   "execution_count": 35,
   "metadata": {
    "pycharm": {
     "is_executing": false
    }
   },
   "outputs": [],
   "source": [
    "from topic_modelling.lda_topic import train_specific_LDA\n",
    "from topic_modelling.lda_utils import get_corpus\n",
    "from path_resolution import resources_path\n",
    "from real.real_gan.real_loader import RealDataTopicLoader\n",
    "from utils.text_process import text_precess\n",
    "import random\n",
    "import numpy as np\n",
    "import gc\n",
    "from scipy.stats import entropy"
   ]
  },
  {
   "cell_type": "code",
   "execution_count": 4,
   "metadata": {
    "pycharm": {
     "is_executing": false
    }
   },
   "outputs": [
    {
     "name": "stdout",
     "output_type": "stream",
     "text": [
      "No model found\n",
      "New model saved in 75.564199924469 sec\n"
     ]
    }
   ],
   "source": [
    "data_file = resources_path(\"data\", '{}.txt'.format(\"image_coco\"))\n",
    "coco = True\n",
    "corpus_raw = get_corpus(coco, datapath=data_file)\n",
    "lda = train_specific_LDA(corpus_raw, num_top=42, passes=2, iterations=2, chunksize=2000, coco=coco)"
   ]
  },
  {
   "cell_type": "code",
   "execution_count": 8,
   "metadata": {
    "pycharm": {
     "is_executing": true
    }
   },
   "outputs": [
    {
     "name": "stdout",
     "output_type": "stream",
     "text": [
      "Computation of topic model started...\n",
      "No model found\n",
      "New model saved in 72.5709011554718 sec\n",
      "number of LDA words: 3499\n",
      "Topic model computed in 73.84313559532166 sec!\n"
     ]
    }
   ],
   "source": [
    "data_file = resources_path(\"data\", '{}.txt'.format(\"image_coco\"))\n",
    "oracle_file = resources_path(os.path.join('.', 'oracle', 'samples'), '{}.txt'.format(\"image_coco\"))\n",
    "topic_number = 42\n",
    "\n",
    "seq_len, vocab_size, word_index_dict, index_word_dict = text_precess(data_file, oracle_file=oracle_file)\n",
    "oracle_loader = RealDataTopicLoader(64, seq_len)\n",
    "oracle_loader.topic_num = topic_number\n",
    "oracle_loader.get_LDA(word_index_dict, index_word_dict, data_file)"
   ]
  },
  {
   "cell_type": "code",
   "execution_count": 61,
   "metadata": {
    "pycharm": {
     "name": "#%%\n"
    }
   },
   "outputs": [],
   "source": [
    "def computeKL(corpus_raw, data_loader):\n",
    "    s = random.sample(corpus_raw, 64)\n",
    "    #real_sentences, generated_sentences = get_sentences()\n",
    "    #real_sentences_topic = data_loader.get_topic(real_sentences)\n",
    "    real_sentences_topic = data_loader.get_topic(s)\n",
    "    #generated_sentences_topic = data_loader.get_topic(generated_sentences)\n",
    "    mean_topic = get_avg_topic(oracle_loader).squeeze()\n",
    "    result = []\n",
    "    for real in real_sentences_topic:\n",
    "        #print(\"Sum: {}\".format(np.sum(real)))\n",
    "        real = real / np.sum(real)\n",
    "        #print(\"Sum2: {}, shape: {}\".format(np.sum(real), real.shape))\n",
    "        #print(\"Mean topic sum: {}, shape: {}\".format(np.sum(mean_topic), mean_topic.shape))\n",
    "        r = entropy(list(real), list(mean_topic))\n",
    "        s = entropy(mean_topic, real)\n",
    "        print(r, s)\n",
    "        result.append(r)\n",
    "\n",
    "    return np.mean(result)\n",
    "\n",
    "def get_avg_topic(oracle_loader):\n",
    "    topic_matrix = oracle_loader.lda.lda_model.get_topics()\n",
    "    topic_weights = np.ones(oracle_loader.lda.topic_num) / oracle_loader.lda.topic_num\n",
    "    topic_weights = np.expand_dims(topic_weights, 0)\n",
    "    topic_sentences = np.dot(topic_weights, topic_matrix)  # num_sentences x num_word\n",
    "    topic_sentences = np.divide(topic_sentences,\n",
    "                                np.sum(topic_sentences, axis=1, keepdims=True))  # rowwise normalization\n",
    "\n",
    "    real_vector = np.zeros(\n",
    "        (topic_sentences.shape[0], len(oracle_loader.model_word_index_dict) + 1))  # sentence_number x vocab_size\n",
    "\n",
    "    for ind, invere_index in enumerate(oracle_loader.inverse_indexes):\n",
    "        # more than one index in the model because of lemmatization\n",
    "        for x in invere_index:\n",
    "            real_vector[:, x] = topic_sentences[:, ind]\n",
    "\n",
    "    gc.collect()\n",
    "    real_vector = np.divide(real_vector, np.sum(real_vector, axis=1, keepdims=True))\n",
    "    return real_vector"
   ]
  },
  {
   "cell_type": "code",
   "execution_count": 62,
   "metadata": {},
   "outputs": [
    {
     "name": "stdout",
     "output_type": "stream",
     "text": [
      "1.931765130427534 2.524536939460581\n",
      "1.1767796582351129 1.701997476006727\n",
      "1.408009819399247 1.9648417565746599\n",
      "1.661483605415608 2.1895545321152636\n",
      "1.6043477526406984 2.152708097571867\n",
      "1.1897241651413262 1.6948845442474347\n",
      "1.533888031843519 1.9094607466299667\n",
      "1.8433247874510381 2.3130325577015136\n",
      "1.3475960827230529 1.9408383620825984\n",
      "1.450714881254403 1.8867700796021007\n",
      "1.4022009632930774 1.8449297335523427\n",
      "1.1699299534071352 1.6142156913322305\n",
      "2.0096761331991386 2.4614745472473993\n",
      "1.5225184734692747 2.196596366939604\n",
      "1.5875365628829756 2.397723546671622\n",
      "2.0478505680363988 2.464883418542761\n",
      "1.4984258403278325 1.8065387906572197\n",
      "1.6163465677658706 1.9657427275229378\n",
      "1.8450388381803746 2.2696866071796595\n",
      "1.516854489474884 2.3697282505345414\n",
      "1.7834908632633695 2.0783918835740183\n",
      "1.4791112573580567 1.7349884000363949\n",
      "1.16844908369571 1.656533472999754\n",
      "1.7066010644203546 2.121411969612905\n",
      "1.8126570810229257 2.642172573344153\n",
      "1.7032343329344817 1.9967950343273373\n",
      "1.178280142317364 1.6916992919943374\n",
      "1.369237099603462 1.8320907753856324\n",
      "1.7623132089290263 1.9451909290811782\n",
      "1.5398412782186521 2.1466740451455184\n",
      "1.2574710199772385 1.6416073951690706\n",
      "1.6047253060412439 2.1211268856963934\n",
      "1.5519479794397897 2.015665937428093\n",
      "1.3801217749461911 1.7514692112050472\n",
      "2.1594304824697796 2.5549790026149815\n",
      "1.7026776990698242 2.49335564166706\n",
      "1.6081177515991627 2.193931230960267\n",
      "1.6466310680748482 2.2553217057323875\n",
      "1.8166932484059053 2.25981636509634\n",
      "1.1569049461902057 1.7769708239973085\n",
      "1.670008179868459 2.1466615437050414\n",
      "1.4802019508075217 1.8724460964548033\n",
      "1.290633978440061 1.7623607182624517\n",
      "1.9866689780800812 2.351826177678372\n",
      "1.8584214120639184 2.171032183571152\n",
      "1.181567433854966 1.6716836113088107\n",
      "2.391903353436016 2.371326202964586\n",
      "1.178473746063787 1.6876994671003733\n",
      "1.1679825790303295 1.6603061546860032\n",
      "1.8602445461540742 1.9813607128913304\n",
      "2.0184311328043556 2.029525830579674\n",
      "1.531216935350718 2.015180782838311\n",
      "2.0092154682278123 2.7925500141669186\n",
      "1.210885838672357 1.7403903415880506\n",
      "1.820314518498865 2.397741920832385\n",
      "1.4984230855335543 2.009772780710853\n",
      "2.120118846412425 2.6485079358620203\n",
      "2.1524960937283426 2.412694653860139\n",
      "1.6747062847659884 2.2755405189357356\n",
      "1.5271615274784565 2.200731601597156\n",
      "1.5050370896372274 2.0298332979147165\n",
      "1.3880182534550707 2.0355241905136143\n",
      "1.0388167358774696 1.6256300472394236\n",
      "2.0322227009655123 2.8281449594183936\n"
     ]
    },
    {
     "data": {
      "text/plain": [
       "1.599142494714898"
      ]
     },
     "execution_count": 62,
     "metadata": {},
     "output_type": "execute_result"
    }
   ],
   "source": [
    "computeKL(corpus_raw, oracle_loader)"
   ]
  },
  {
   "cell_type": "code",
   "execution_count": 43,
   "metadata": {},
   "outputs": [],
   "source": [
    "mean_topic = get_avg_topic(oracle_loader).squeeze()"
   ]
  },
  {
   "cell_type": "code",
   "execution_count": 71,
   "metadata": {},
   "outputs": [],
   "source": [
    "s = random.sample(corpus_raw, 64)\n",
    "#real_sentences, generated_sentences = get_sentences()\n",
    "#real_sentences_topic = data_loader.get_topic(real_sentences)\n",
    "real_sentences_topic = oracle_loader.get_topic(s)\n",
    "real_sentences_topic = np.divide(real_sentences_topic, np.sum(real_sentences_topic, axis=1, keepdims=True))\n",
    "#generated_sentences_topic = data_loader.get_topic(generated_sentences)\n",
    "mean_topic = get_avg_topic(oracle_loader).squeeze()"
   ]
  },
  {
   "cell_type": "code",
   "execution_count": 72,
   "metadata": {},
   "outputs": [
    {
     "data": {
      "text/plain": [
       "array([1., 1., 1., 1., 1., 1., 1., 1., 1., 1., 1., 1., 1., 1., 1., 1., 1.,\n",
       "       1., 1., 1., 1., 1., 1., 1., 1., 1., 1., 1., 1., 1., 1., 1., 1., 1.,\n",
       "       1., 1., 1., 1., 1., 1., 1., 1., 1., 1., 1., 1., 1., 1., 1., 1., 1.,\n",
       "       1., 1., 1., 1., 1., 1., 1., 1., 1., 1., 1., 1., 1.])"
      ]
     },
     "execution_count": 72,
     "metadata": {},
     "output_type": "execute_result"
    }
   ],
   "source": [
    "np.sum(real_sentences_topic, axis=1)"
   ]
  },
  {
   "cell_type": "code",
   "execution_count": 44,
   "metadata": {},
   "outputs": [
    {
     "data": {
      "text/plain": [
       "0.9999999999999999"
      ]
     },
     "execution_count": 44,
     "metadata": {},
     "output_type": "execute_result"
    }
   ],
   "source": [
    "result = []\n",
    "for real in real_sentences_topic:\n",
    "    #print(\"Sum: {}\".format(np.sum(real)))\n",
    "    real = real / np.sum(real)\n",
    "    #print(\"Sum2: {}, shape: {}\".format(np.sum(real), real.shape))\n",
    "    #print(\"Mean topic sum: {}, shape: {}\".format(np.sum(mean_topic), mean_topic.shape))\n",
    "    r = entropy(list(real), list(mean_topic))\n",
    "    s = entropy(mean_topic, real)\n",
    "    print(r, s)\n",
    "    result.append(r)"
   ]
  },
  {
   "cell_type": "code",
   "execution_count": 82,
   "metadata": {},
   "outputs": [
    {
     "data": {
      "text/plain": [
       "0.015012192635322948"
      ]
     },
     "execution_count": 82,
     "metadata": {},
     "output_type": "execute_result"
    }
   ],
   "source": [
    "np.sum((real_sentences_topic[0] - mean_topic) ** 2)"
   ]
  },
  {
   "cell_type": "code",
   "execution_count": 83,
   "metadata": {},
   "outputs": [
    {
     "data": {
      "text/plain": [
       "0.0002135839384878257"
      ]
     },
     "execution_count": 83,
     "metadata": {},
     "output_type": "execute_result"
    }
   ],
   "source": [
    "np.mean(real_sentences_topic[0])"
   ]
  }
 ],
 "metadata": {
  "kernelspec": {
   "display_name": "Python 3",
   "language": "python",
   "name": "python3"
  },
  "language_info": {
   "codemirror_mode": {
    "name": "ipython",
    "version": 3
   },
   "file_extension": ".py",
   "mimetype": "text/x-python",
   "name": "python",
   "nbconvert_exporter": "python",
   "pygments_lexer": "ipython3",
   "version": "3.7.3"
  },
  "pycharm": {
   "stem_cell": {
    "cell_type": "raw",
    "metadata": {
     "collapsed": false
    },
    "source": []
   }
  }
 },
 "nbformat": 4,
 "nbformat_minor": 1
}
