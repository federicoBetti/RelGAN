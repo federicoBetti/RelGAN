{
 "cells": [
  {
   "cell_type": "markdown",
   "metadata": {},
   "source": [
    "#### This is used to go in the same directory as when everything is run under Pycharm in a normal python file"
   ]
  },
  {
   "cell_type": "code",
   "execution_count": 1,
   "metadata": {},
   "outputs": [
    {
     "name": "stdout",
     "output_type": "stream",
     "text": [
      "C:\\Users\\Fede\\Documents\\GitHub\\RelGAN\\src\\topic_modelling\n"
     ]
    }
   ],
   "source": [
    "import os\n",
    "cwd = os.getcwd()\n",
    "print(cwd)"
   ]
  },
  {
   "cell_type": "code",
   "execution_count": 2,
   "metadata": {},
   "outputs": [
    {
     "name": "stdout",
     "output_type": "stream",
     "text": [
      "C:\\Users\\Fede\\Documents\\GitHub\\RelGAN\n"
     ]
    }
   ],
   "source": [
    "os.chdir(\"..\")\n",
    "os.chdir(\"..\")\n",
    "cwd = os.getcwd()\n",
    "print(cwd)\n",
    "assert cwd.endswith(\"RelGAN\")"
   ]
  },
  {
   "cell_type": "markdown",
   "metadata": {},
   "source": [
    "### Test new data_loader"
   ]
  },
  {
   "cell_type": "code",
   "execution_count": 31,
   "metadata": {},
   "outputs": [],
   "source": [
    "import numpy as np\n",
    "from nltk.stem import PorterStemmer as ps"
   ]
  },
  {
   "cell_type": "code",
   "execution_count": 4,
   "metadata": {},
   "outputs": [
    {
     "name": "stderr",
     "output_type": "stream",
     "text": [
      "C:\\Users\\Fede\\Anaconda3\\envs\\SeqGAN\\lib\\site-packages\\gensim\\utils.py:1197: UserWarning: detected Windows; aliasing chunkize to chunkize_serial\n",
      "  warnings.warn(\"detected Windows; aliasing chunkize to chunkize_serial\")\n"
     ]
    },
    {
     "name": "stdout",
     "output_type": "stream",
     "text": [
      "Model loaded\n"
     ]
    }
   ],
   "source": [
    "from src.topic_modelling.lda_topic import train_specific_LDA, get_corpus, LDA\n",
    "\n",
    "coco = True\n",
    "corpus_raw = get_corpus(coco)\n",
    "lda = train_specific_LDA(corpus_raw, num_top=3, passes=2, iterations=2, chunksize=2000, coco=coco)"
   ]
  },
  {
   "cell_type": "code",
   "execution_count": null,
   "metadata": {},
   "outputs": [],
   "source": [
    "corpus_raw"
   ]
  },
  {
   "cell_type": "code",
   "execution_count": 5,
   "metadata": {},
   "outputs": [
    {
     "data": {
      "text/plain": [
       "<gensim.models.ldamodel.LdaModel at 0x16939d81b00>"
      ]
     },
     "execution_count": 5,
     "metadata": {},
     "output_type": "execute_result"
    }
   ],
   "source": [
    "lda_model = lda.lda_model\n",
    "from gensim.models import LdaModel\n",
    "\n",
    "assert isinstance(lda_model, LdaModel)\n",
    "lda_model"
   ]
  },
  {
   "cell_type": "code",
   "execution_count": 6,
   "metadata": {},
   "outputs": [],
   "source": [
    "topics = lda_model.get_topics()"
   ]
  },
  {
   "cell_type": "code",
   "execution_count": 7,
   "metadata": {},
   "outputs": [
    {
     "name": "stdout",
     "output_type": "stream",
     "text": [
      "['bathroom', 'toilet', 'sink', 'wall', 'cat', 'window', 'mirror', 'airplane', 'sky', 'shower']\n"
     ]
    }
   ],
   "source": [
    "dictionary = lda.dictionary\n",
    "print([dictionary[x[0]] for x in lda_model.get_topic_terms(1)])\n"
   ]
  },
  {
   "cell_type": "code",
   "execution_count": 17,
   "metadata": {},
   "outputs": [
    {
     "data": {
      "image/png": "[encoded data removed]",
      "text/plain": [
       "<Figure size 720x720 with 4 Axes>"
      ]
     },
     "metadata": {},
     "output_type": "display_data"
    }
   ],
   "source": [
    "from src.topic_modelling.lda_utils import word_cloud\n",
    "%matplotlib inline\n",
    "\n",
    "word_cloud(lda)"
   ]
  },
  {
   "cell_type": "markdown",
   "metadata": {},
   "source": [
    "#### Create Topic Vector for sentences in the dataset"
   ]
  },
  {
   "cell_type": "code",
   "execution_count": 8,
   "metadata": {},
   "outputs": [],
   "source": [
    "import pandas as pd\n",
    "import re\n",
    "\n",
    "from gensim.utils import lemmatize, simple_tokenize\n",
    "\n",
    "def process_texts(input_texts, stops):\n",
    "    final = []\n",
    "    for i in input_texts:\n",
    "        texts = (re.sub(r\"http\\S+\", \"\", i))\n",
    "        # tokenize\n",
    "        texts = simple_tokenize(texts)\n",
    "        # lower case\n",
    "        texts = [word.lower() for word in texts]\n",
    "        # remove stopwords\n",
    "        texts = [word for word in texts if word not in stops]\n",
    "\n",
    "        # automatically detect common phrases\n",
    "        texts = [str(word).split('/')[0].split('b\\'')[1] for word in\n",
    "                 lemmatize(' '.join(texts), allowed_tags=re.compile('(NN)'), min_length=3)]\n",
    "\n",
    "        final.append(texts)\n",
    "    return final\n",
    "\n",
    "def get_perc_sent_topic(ldamodel, corpus, texts, stops):\n",
    "    # Init output\n",
    "    sent_topics_df = pd.DataFrame()\n",
    "    texts = process_texts(texts, stops)\n",
    "\n",
    "    # Get main topic in each document\n",
    "    for i, row_list in enumerate(ldamodel[corpus]):\n",
    "        row = row_list[0] if ldamodel.per_word_topics else row_list\n",
    "\n",
    "        # row = sorted(row, key=lambda x: (x[1]), reverse=True) # sort list to get dominant topic\n",
    "        # Get the Dominant topic, Perc Contribution and Keywords for each document\n",
    "        to_append = []\n",
    "        for j, (topic_num, prop_topic) in enumerate(row):\n",
    "            # if j == 0:  # => dominant topic\n",
    "            #     wp = ldamodel.show_topic(topic_num)\n",
    "            #     topic_keywords = \", \".join([word for word, prop in wp])\n",
    "            #     sent_topics_df = sent_topics_df.append(\n",
    "            #         pd.Series([int(topic_num), round(prop_topic, 4), topic_keywords]), ignore_index=True)\n",
    "            # else:\n",
    "            #     break\n",
    "            to_append.append(prop_topic)\n",
    "        sent_topics_df = sent_topics_df.append(pd.Series(to_append), ignore_index=True)\n",
    "    sent_topics_df.columns = [\"Topic {}\".format(topic_number) for topic_number in range(len(to_append))]\n",
    "\n",
    "    # Add original text to the end of the output\n",
    "    contents = pd.Series(texts)\n",
    "    sent_topics_df = pd.concat([sent_topics_df, contents], axis=1)\n",
    "    sent_topics_df = sent_topics_df.reset_index()\n",
    "    return sent_topics_df\n"
   ]
  },
  {
   "cell_type": "code",
   "execution_count": 9,
   "metadata": {},
   "outputs": [],
   "source": [
    "from src.topic_modelling.lda_topic import get_dominant_topic_and_contribution\n",
    "\n",
    "df = get_perc_sent_topic(ldamodel=lda.lda_model, corpus=lda.corpus_bow, texts=lda.corpus_text, stops=lda.stops)"
   ]
  },
  {
   "cell_type": "code",
   "execution_count": 67,
   "metadata": {},
   "outputs": [
    {
     "data": {
      "text/html": [
       "<div>\n",
       "<style scoped>\n",
       "    .dataframe tbody tr th:only-of-type {\n",
       "        vertical-align: middle;\n",
       "    }\n",
       "\n",
       "    .dataframe tbody tr th {\n",
       "        vertical-align: top;\n",
       "    }\n",
       "\n",
       "    .dataframe thead th {\n",
       "        text-align: right;\n",
       "    }\n",
       "</style>\n",
       "<table border=\"1\" class=\"dataframe\">\n",
       "  <thead>\n",
       "    <tr style=\"text-align: right;\">\n",
       "      <th></th>\n",
       "      <th>index</th>\n",
       "      <th>Topic 0</th>\n",
       "      <th>Topic 1</th>\n",
       "      <th>Topic 2</th>\n",
       "      <th>0</th>\n",
       "    </tr>\n",
       "  </thead>\n",
       "  <tbody>\n",
       "    <tr>\n",
       "      <th>0</th>\n",
       "      <td>0</td>\n",
       "      <td>0.526361</td>\n",
       "      <td>0.369548</td>\n",
       "      <td>0.104091</td>\n",
       "      <td>[bicycle, replica, clock, wheel]</td>\n",
       "    </tr>\n",
       "    <tr>\n",
       "      <th>1</th>\n",
       "      <td>1</td>\n",
       "      <td>0.463242</td>\n",
       "      <td>0.096018</td>\n",
       "      <td>0.440740</td>\n",
       "      <td>[honda, motorcycle, garage]</td>\n",
       "    </tr>\n",
       "    <tr>\n",
       "      <th>2</th>\n",
       "      <td>2</td>\n",
       "      <td>0.094992</td>\n",
       "      <td>0.700151</td>\n",
       "      <td>0.204857</td>\n",
       "      <td>[room, wall, door]</td>\n",
       "    </tr>\n",
       "    <tr>\n",
       "      <th>3</th>\n",
       "      <td>3</td>\n",
       "      <td>0.118244</td>\n",
       "      <td>0.117362</td>\n",
       "      <td>0.764394</td>\n",
       "      <td>[car, car]</td>\n",
       "    </tr>\n",
       "    <tr>\n",
       "      <th>4</th>\n",
       "      <td>4</td>\n",
       "      <td>0.668463</td>\n",
       "      <td>0.217925</td>\n",
       "      <td>0.113613</td>\n",
       "      <td>[passenger, airplane, air]</td>\n",
       "    </tr>\n",
       "  </tbody>\n",
       "</table>\n",
       "</div>"
      ],
      "text/plain": [
       "   index   Topic 0   Topic 1   Topic 2                                 0\n",
       "0      0  0.526361  0.369548  0.104091  [bicycle, replica, clock, wheel]\n",
       "1      1  0.463242  0.096018  0.440740       [honda, motorcycle, garage]\n",
       "2      2  0.094992  0.700151  0.204857                [room, wall, door]\n",
       "3      3  0.118244  0.117362  0.764394                        [car, car]\n",
       "4      4  0.668463  0.217925  0.113613        [passenger, airplane, air]"
      ]
     },
     "execution_count": 67,
     "metadata": {},
     "output_type": "execute_result"
    }
   ],
   "source": [
    "df.head(5)"
   ]
  },
  {
   "cell_type": "code",
   "execution_count": 11,
   "metadata": {},
   "outputs": [],
   "source": [
    "topic_matrix = lda.lda_model.get_topics() #  3 topics * 2280 words"
   ]
  },
  {
   "cell_type": "code",
   "execution_count": 12,
   "metadata": {},
   "outputs": [
    {
     "name": "stdout",
     "output_type": "stream",
     "text": [
      "Topic sentnece dim: (10000, 2280)\n"
     ]
    }
   ],
   "source": [
    "topic_weights = df.values[:, 1:topic_num + 1]\n",
    "sentences_number = topic_weights.shape[0]\n",
    "word_count = topic_matrix.shape[1]\n",
    "size = ((int(sentences_number), int(word_count)))\n",
    "print(\"Topic sentnece dim: {}\".format(size))\n",
    "topic_sentences = np.zeros(size)"
   ]
  },
  {
   "cell_type": "code",
   "execution_count": 66,
   "metadata": {},
   "outputs": [
    {
     "data": {
      "text/plain": [
       "array([0, 1, 2, ..., 9997, 9998, 9999], dtype=object)"
      ]
     },
     "execution_count": 66,
     "metadata": {},
     "output_type": "execute_result"
    }
   ],
   "source": [
    "topic_weights[:, 0]"
   ]
  },
  {
   "cell_type": "code",
   "execution_count": 13,
   "metadata": {},
   "outputs": [],
   "source": [
    "for index in range(topic_sentences.shape[0]):\n",
    "    topic_sentences[index] = np.dot(np.expand_dims(topic_weights[index], 0), topic_matrix).squeeze()"
   ]
  },
  {
   "cell_type": "markdown",
   "metadata": {},
   "source": [
    "In topic_sentneces ho per ogni sentence il topic 'pesato'"
   ]
  },
  {
   "cell_type": "code",
   "execution_count": null,
   "metadata": {},
   "outputs": [],
   "source": [
    "index_dict = lda.dictionary\n",
    "index"
   ]
  },
  {
   "cell_type": "markdown",
   "metadata": {},
   "source": [
    "than I have to make this vector of the same size of the vector used by the model (circa 4k) keeping the parallelism between words"
   ]
  },
  {
   "cell_type": "code",
   "execution_count": 19,
   "metadata": {},
   "outputs": [],
   "source": [
    "from src.path_resolution import resources_path\n",
    "from src.utils.text_process import text_precess\n",
    "dataset = \"image_coco\"\n",
    "data_file = resources_path(\"data\", '{}.txt'.format(dataset))\n",
    "seq_len, vocab_size, index_word_dict = text_precess(data_file)"
   ]
  },
  {
   "cell_type": "code",
   "execution_count": 23,
   "metadata": {},
   "outputs": [],
   "source": [
    "lda_word_index_dict = lda.dictionary.token2id\n",
    "model_index_word_dict = {v: k for k, v in word_index_dict.items()}\n",
    "lda_index_word_dict = lda.dictionary.id2token\n",
    "model_word_index_dict = word_index_dict"
   ]
  },
  {
   "cell_type": "code",
   "execution_count": 50,
   "metadata": {},
   "outputs": [
    {
     "name": "stdout",
     "output_type": "stream",
     "text": [
      "cucumb\n",
      "['4525', '4092', '1124', '281', '2918', '1361', '3313', '2990', '1577', '195', '4494', '3367', '4291', '1408', '1338', '3401', '3847', '2304', '1112', '4594', '955', '527', '857', '2853', '3454', '2175', '2185', '4458', '465', '819', '2900', '3071', '706', '1560', '4057', '1929', '652', '784', '2375', '2780', '2736', '3214', '3787', '1561', '2987', '714', '350', '666', '3383', [3749], '4579', '785', '4548', '797', '215', '1448', '2206', '3508', '3129', '2762', '3808', '1272', '2844', '2734', '2140', '1981', '277', '409', '4182', '1096', '2347', '1127', '4296', '2488', '3463', '3201', '4476', '2707', '123', '2980', '2305', '775', '2777', '1595', '3379', '2295', '3447', '1355', '1855', '2657', '2600', '2188', '1443', '4235', '4341', '2676', '1043', '949', '557', '2127', '275', '4071', '3380', '3711', '1800', '417', '206', '544', '3322', '4447', '341', '1705', '505', '197', '4418', '2114', '3970', '2416', '3484', '1703', '2692', '475', '1840', '1388', '2535', '3830', '3166', '2815', '2534', '3885', '901', '205', '590', '1275', '2615', '4642', '4215', '3849', '1737', '730', '2902', '423', '1531', '1299', '2516', '2646', '1664', '3589', '1647', '453', '2620', '4154', '309', '2405', '923', '1507', '1912', '2321', '1618', '2817', '4448', '292', '75', '3180', '119', '685', '2251', '3309', '3947', '171', '4051', '4053', '4200', '4290', '1356', '1777', '3097', '920', '3223', '181', '1565', '2667', '1015', '2593', '3556', '15', '3988', '3158', '0', '237', '3731', '3611', '692', '4308', '3122', '209', '3939', '930', '354', '669', '1073', '2035', '2781', '4497', '1742', '1844', '855', '4287', '384', '1596', '4165', '4421', '2498', '39', '944', '1856', '3650', '2002', '631', '2012', '3750', '4527', '2839', '3605', '3530', '4611', '2334', '4566', '2430', '2073', '3393', '4162', '1295', '1544', '3672', '4462', '3967', '2903', '531', '2015', '2202', '3944', '147', '4531', '4481', '72', '798', '403', '3247', '3219', '1422', '2059', '4647', '4529', '1053', '2340', '1122', '21', '1567', '884', '3581', '1724', '300', '129', '3707', '546', '4397', '3569', '2467', '30', '4043', '4631', '4213', '1187', '2234', '1683', '484', '1381', '397', '1884', '2855', '232', '592', '688', '4300', '1676', '1377', '4201', '1757', '640', '2632', '1004', '2991', '4097', '4189', '2866', '3363', '3014', '1774', '622', '4388', '4460', '4479', '3314', '2862', '4540', '36', '1451', '879', '1710', '111', '1423', '3926', '1025', '3616', '1382', '1346', '4630', '28', '82', '1438', [3137], '3901', '702', '2219', '727', '2192', '1205', '4299', '3354', [342], '1263', '4668', '3500', '3067', '2146', '1441', '3077', '772', '3152', '368', '2155', '3188', '1308', '3474', '2644', [2843], '966', '252', '2494', '1983', '1026', [3740, 4186], '2555', '4334', '2066', '3774', '1661', '715', '861', '3037', '1237', '2381', '2172', '1005', '1597', '224', '1226', '510', '1216', '2001', '2631', '3086', '1630', '127', '2112', [2677], '2948', '825', '1701', '3513', '4203', '1093', '3777', '2809', '2404', '3875', '2032', '2573', '1042', '2879', '1723', '2074', '1434', '298', '3081', '4104', '3126', '3503', '1103', '2024', '3221', '1980', [501, 3597, 3729, 3771], [], [985], '62', '3391', '3550', '1906', '2912', '1517', '2939', '2327', '4438', '3121', '5', '4102', '3315', '3930', [908], '1964', '1077', '3692', '315', '3965', '461', '1995', '2591', '2292', '2246', [2365], '3704', '2917', '1196', '3862', '3173', '376', '4513', '4138', '1641', '3739', '2470', '2068', '3898', '79', '1654', '1418', '451', [489], '3628', '2598', '105', '899', '988', '2515', '4558', '1233', '2544', '2312', '3277', '2889', '3387', '146', '2244', '1399', '2489', '3566', '1814', '4271', '165', '428', '2147', '2320', '1611', '3744', '53', '1548', '3738', '4105', '287', '802', '4393', '3329', '1317', '2864', '2264', '1784', '637', [1230, 2097], '355', '4173', '2577', '1284', '3792', '2703', '3357', '707', '1958', '1260', [], [2916], '3819', '2983', '744', '929', '2021', '4129', '3821', '1099', '3133', '1336', '2881', '3614', '2455', '4269', '1171', '4623', '3620', '4066', '3227', '1357', '1325', '924', '3160', '1115', '760', '3937', '2108', '4180', '2310', '31', '566', '1621', '1538', '3806', '3848', '3209', '1240', '3734', '1117', '2040', '1303', '4264', '4612', '4556', '1603', '2376', '1449', '1975', [918, 4286], '971', '4456', '2495', '1157', '2160', '1991', '3807', '591', '168', '2341', '925', '2274', '3984', '1348', '151', '2008', '4347', '3713', '3712', '407', [307], '3275', '110', '2540', '2946', '4222', '1523', '247', '1614', '4542', '1556', '4110', [3009], '1486', '4485', '3491', '2415', '199', '712', '3052', '3109', '2151', '1193', [4156], '968', '2556', '374', '3742', '2369', '3110', '3567', '379', '2358', '16', '3887', '2936', '3606', '1178', '1384', '3088', '1655', '2050', '4325', '3193', '4413', '1793', [2184], '1075', [1266], '3032', '1341', '2161', '2058', [1963], '3424', '4559', '842', '2827', '1033', '4267', [3335], '2406', '4086', '1199', [3726, 4409], '945', '627', '2968', '2437', '2621', '80', '1822', '2745', '4420', '2536', '4659', '4093', '3217', '4375', '3948', [2075], '217', '3308', '589', '2712', '3195', '1257', '3905', '4124', '1977', [169], '3303', '4027', '1166', '3836', '1604', '2897', '869', '1508', '1936', '2740', [835, 3969], '4539', '2605', '1662', '2496', '2101', '251', '642', '2913', '4113', '3982', '3961', '1628', '1615', [1455], '4390', '3184', '3801', '2806', '1965', '2896', '1279', '2774', '2826', '246', '4212', '3250', '1344', '2407', '2585', '4657', '3835', '2027', '143', '3838', '4412', [2658], '514', '1345', '2047', '3788', '2565', '2197', '3027', '4217', '2528', '3608', '1852', '1882', '3365', '3117', '2268', [3239, 4620], [4639], '2588', '1895', '812', '2687', '1467', '3919', '2949', '937', '263', '3171', '3998', '3299', '1389', '1442', '3884', '4616', '3824', '2492', [4401], '2367', [1992], '4017', '332', '4131', '4084', '418', '571', '4349', '2979', '636', '3514', '50', '3852', '3531', '4446', '1999', '1369', '2860', '2062', [2574, 3347], '1002', '2607', '1845', '3300', '645', '1672', '2389', '4342', '4134', '1546', '850', '32', '1332', '1685', '4394', '2417', '764', '4036', '643', '169', '976', '4037', '2610', '178', '3768', '820', '1492', '2275', '90', '3522', '1729', '1475', '2566', '3755', '278', '2499', '1708', '1651', '2284', [4614], '4117', '3167', '2166', '1453', '12', '809', '1359', '3580', '296', '283', '4185', '2233', '2051', '81', '71', '989', '236', '3432', [1487], '1003', '2649', '2768', '2162', '153', '2129', '214', '508', '1394', '4305', '2460', '107', '2650', '320', '3635', '1322', '575', '1391', '238', '2786', '2309', '3389', '3154', '3706', '4044', '402', '3040', '2164', '3425', '3809', '3034', '2280', '133', '1203', '1613', '4155', '356', '4348', '139', '593', '4504', '2137', '584', '3215', '3274', '2022', '630', '3168', '2471', [777], [1198], '4091', '3199', '201', '65', '1587', '2378', [606], '2773', '3681', '996', '2076', '2865', '4016', '3439', '663', '1549', '2901', '3249', '1011', '1068', '2218', '619', '2675', '2837', '2344', '1798', '3429', '2976', '3551', '2633', '3548', '1691', '1194', '4281', '4219', '1186', [1493], '3992', '3973', '448', [1049], '4510', '4256', '2457', '329', '3797', '3330', '440', '4432', '4248', '435', [1], '3403', '3653', '1680', '4522', '3135', '166', '3155', '2800', [366], '1040', '1767', '808', '2845', '3657', '3935', '834', '4524', '2366', '3377', '2439', '4680', '3369', '3326', '2821', '4055', '1832', '558', '833', '1141', '2653', [2726], '4146', '1215', '2337', '4502', '2384', '4109', '83', '4265', '1504', '4245', '549', '1881', '2584', '890', '3358', '2093', '1119', '3886', '2115', '3920', [3829], '3243', '2034', '638', '1412', '3772', '3058', '490', '180', '1478', '1559', '3825', '3493', '2921', '2874', '1692', '387', [3596], '2258', '3244', '1632', '1480', '3236', '3652', '3649', '3015', '2922', '891', '2998', '1752', '2477', '3483', '880', '59', '984', '3951', '3324', '1811', '3441', '1657', '1978', '1016', '2775', '361', '4670', '2434', '2678', '1946', '3264', '48', '525', '190', '717', '910', '3017', '1300', '299', '3486', '1509', '4336', '1395', '3979', [1545], '3670', '103', '1268', '2484', '2723', '2283', '3735', '383', '4678', '2945', '2771', '4544', [115], '1426', '1876', [2665], [1335], [], '8', [1896], '3999', '4512', '1228', '4488', '3892', '1358', [2353], '686', '3854', '331', '3537', '2859', '794', '3098', '4403', '1529', '2287', '522', '2067', '4058', '4365', '3148', '1972', '1051', '2984', '3179', '266', '1430', '4549', '40', '830', '3451', '2659', '359', '323', '1225', '1038', '1431', '76', '3839', '3778', [1414, 3863], '1530', '2125', '2131', '4157', '2186', '1524', '1333', '2890', [2377], '1702', '2230', '624', [3880, 4608], '474', '1624', '470', '3487', '3619', '1301', '231', '2291', '2026', '1993', '887', '4035', '1700', '867', '1167', '844', '564', '657', '3903', '3185', '2720', '3055', '202', '4195', '2985', '703', [2094], '2841', '1136', '2252', '57', '736', '2954', '1429', '1250', '1645', '365', '2198', '1123', '1347', '933', '1973', '1966', '2611', '2791', '4304', '4187', '244', '1997', '2830', '504', '1305', '2884', '1711', '696', '2313', '3245', [1204, 3035], '1072', '4367', '906', '2325', '3921', '2167', '2036', '2351', '4280', '4345', [3840], '3161', '3418', '3289', '4089', '3626', '2592', '2028', '3190', '104', '3273', '2322', '396', '4081', '469', [1792], '1927', '3974', '2106', '4082', '818', '2063', '4128', '4385', '481', '3671', '2518', [507], '2801', '2045', '1390', '3523', '805', '3390', '3769', '14', '458', '431', '269', '3515', '3668', [4450], '926', '2613', '303', '2909', '2385', [2301], '2096', '37', '54', '3532', '2718', '774', '2130', '1125', '472', '3587', [3683], [4415], '858', '4364', '2822', '3770', '3294', '2293', '2904', '3094', '1380', '2423', '1340', [3404], '2669', '4062', '1316', '3359', '1535', '1688', [316], '1914', '4649', '491', '3211', '2181', [2938], '2986', '4240', '2679', [3470], '2285', '3525', '3795', '4047', '486', '755', '4557', '1466', '1712', '1829', [1842], '2177', '3446', '4583', '4633', '2967', '1640', '1506', [552], [2660], '4122', '3461', '2247', [4492], '1519', '1667', '905', '1807', '3756', '3709', '3897', '3924', [970], '1469', '1563', '684', [1843], '125', '838', '1174', '4158', '539', '2311', '1893', '3646', '4026', '4519', '3855', '3045', '452', '2548', '3799', '806', '339', [1313], [1036], '4331', '2906', '3153', '1526', '4250', '4416', '2804', '1153', '1853', '1440', '2182', '116', '3095', '1607', '3116', '1570', '3411', '1144', [2641], '3395', '228', '2468', '1959', '1288', '498', '289', [2388], '2128', [1998], '2170', '1447', '1276', '3718', '1405', '1541', '335', '375', '3856', '3371', '3785', '1921', [2098], '3003', '1179', '1009', [765, 3115], '4013', '1931', '3192', '1625', '1349', '2346', [499], '4571', [610], '4095', '3216', '191', '2265', '44', '1445', '2888', '412', '1055', '1865', '45', [1454], [1400, 3187], [1788], '3325', '2559', '2973', '2006', [3648], '87', '4356', [2253], '3130', '3268', [3476], [148], '4619', '3578', '2187', '1904', '3388', '1666', '109', '871', '3068', '284', '227', '112', [1488], '1761', '2883', '1726', '1292', '97', [286], [675], '950', '4496', '664', '2907', '2792', '943', '824', [4472], '1585', '4362', '4389', '2316', [3536], '602', '2799', [1195], '2333', '3218', '3396', [3959], '353', '3888', '845', '3535', '4575', [516], '2395', '4357', [19], '2586', [3585], [1137], '2506', '4411', '2249', '4595', '3609', '3059', '95', '1060', [1328], [290], '1397', '338', '2729', '1913', '4206', '3521', '1908', '25', '3477', '4005', '1311', '3257', '2688', '3078', '1318', '1511', '998', '595', '3235', '3374', '1498', '3252', '432', '939', '859', '632', '29', '2931', '9', '1415', '1539', '2899', [4328], '502', '3053', '1572', '1803', [1417], '2802', '4622', '460', '596', '3579', '220', [747, 3791], '2761', '3989', '349', '1491', '986', '487', '745', '3138', [4459], '3612', [3070], '2318', '4373', '2065', '2681', '4454', '4545', '4652', '2085', '478', '2048', '2136', '4605', '1547', '570', '2428', '3714', '1734', '2418', '3104', '182', '1868', '1101', '4572', '828', '150', '4046', '4587', '1713', '1673', '2286', '2928', '2714', '1006', '1334', '3398', '2451', [3478], '4257', '1778', '485', '3613', '2355', '401', '77', '243', '164', '605', [4392], [2951], '873', '1766', '2157', '4506', '4487', '2708', '972', '4241', '1715', [2042], '4127', '2674', '2514', '4295', '4628', '2671', '2080', '1050', '538', [304], '2173', '4243', '1836', '1900', '2994', '2060', '1330', '328', '2148', '2083', '4339', '3558', '3360', '1287', [2835, 3993], [4601], [710], '3758', [4284], '2507', '4625', '2695', '974', '563', '1155', '1419', '3373', '1608', '1218', '2523', '121', '3460', [697], '4618', '1790', '1310', [4033], [2882], '3539', '1008', [2863], '4246', '513', [1132], '1291', [1720], '2915', '2149', '2279', '2138', '2134', '740', '2733', '229', '2444', '3022', '4314', '3262', '1364', '3676', '3651', [1769], '676', '629', '3384', '1360', '3151', '4484', [1954, 2919, 4118, 4227], '4581', '2288', '3634', '2602', '3743', '2191', '2587', '689', '2908', '1029', '445', '3727', [4228], '2942', '4677', '823', [68], '2522', '4183', '4343', '2299', '392', '4395', '1694', '3266', '1802', '2530', '3084', '551', '223', '649', [3004], '274', '3107', [1944], [3929], [234], [3143], '149', '1164', '372', '3615', '312', '3675', '4111', '3679', '1911', '565', '362', '421', [1854, 1962], '608', '1955', '3798', '3076', '363', '1598', '2744', '4346', '737', '3064', '961', '1147', '4006', '1067', [876], '4061', '3678', '2242', '99', '1799', '672', [1235], '3968', '3099', [1383], [973], '1134', '3144', '4577', '1172', '2618', [84], '2935', '3794', '962', '1677', '2937', '3837', '4467', '2527', '814', '1916', '1633', '1231', '530', '3119', [4469], '1258', '4132', '1207', [1805], '3375', [1188], '380', '2017', '3990', '2996', '3072', '2846', '804', [897], '2746', '2981', [523], '1626', '1974', '1143', [74], '4088', '1870', '213', '1031', '1600', '3198', '1938', '1464', '242', '4505', '3026', '4637', '4252', '1728', '1872', '4283', '852', [3204], '3435', [3063], '3420', '2111', '3592', '194', '4482', '840', '4555', '4538', [2664], '2215', '1446', [4179], '1246', '2628', '2759', '3350', '2810', '1189', '553', '781', '1165', '1732', '517', '4646', '117', '1433', [4226], '33', '524', '2673', '1791', '3660', '1290', '853', '2262', '987', '4419', '1251', '4354', '1320', '733', '3981', '174', '1841', '41', '4094', '3392', '4520', [1439], '2636', [1183], [3786], '2400', '4490', '3256', [446], '2966', '4443', '467', '2876', '26', '3721', '936', '1756', '4175', '1270', '3719', '3041', '438', '2446', '1027', [2539], '724', '898', '3831', '241', '370', '3408', '3526', [100], [2706], '720', [3942], '1536', '2763', '3050', '2538', '3312', '442', '1935', '831', '2959', '2343', '3297', '2795', '271', '1184', '3301', '3759', '1537', '3479', '2109', '763', '3428', '1021', '650', '4136', '2892', '330', '2568', '411', '479', '2974', '4468', '462', '2765', '3455', '4478', '2290', '1370', '4204', '2307', '1403', '1482', '2212', '2788', '254', '2493', '847', '163', '1177', '1696', '1074', [422], '4466', '4274', [3554], '2208', '1154', '3453', '11', [586], '3141', '1926', '2511', '2988', '1386', '415', '4254', '4626', '494', '4573', [4651], '4675', '3025', '1839', '2717', '200', '4313', '4214', '2652', '3436', '4381', '793', '2682', '4379', '3684', '3883', '2009', '2281', [1910], '4174', [3146], '4532', '953', '1084', '4288', '3555', '1495', '2397', [3665], '1801', '4096', '4230', '3057', '3504', '2126', '4518', '3519', '917', [2190], '4141', '3083', '1092', '240', '3343', '1831', '2278', '4318', '2521', '493', '4266', '2552', '4463', '1760', '554', '2133', '3640', '3627', [4166], '2303', '771', [2654, 4171], [2645], '1404', '3456', '2941', '762', '1953', '3813', '1208', '3091', '3925', '2425', '2731', '2070', '2485', [3577], '1456', '526', '2819', '94', '4589', '519', '2156', '1810', '4188', '1878', '941', '4320', [3176], '981', '1069', '4009', '1500', '4474', '3573', '1315', '3385', '3527', [4293], '3457', '4042', '3186', '1880', '975', '1107', '4326', '1128', '4332', '1627', '1312', '3421', '2064', '3694', '1579', '1588', '2503', '2359', '3043', '22', '2502', '1543', '1280', '3957', '679', '3467', '1017', '3399', '1039', '2037', '3570', '1794', '1402', '3085', '157', [2088], '3089', [1224], '2519', '1484', '2480', '4278', '443', '114', '2116', '4645', '297', '1854', '4516', '3334', '4176', [1083], [1091, 4559], '3402', '2363', '4121', '4508', [3912], '782', '3419', [4142], '1289', '2210', '3283', '2398', '1255', '1023', '1862', '2625', '2091', '3061', '1813', '4316', '1070', '4170', [2179], '2758', '1494', [2947], '4374', '2476', '4613', '4022', '699', '1028', [4032], [2672], [2204], '3563', '3685', '319', '3364', '1398', '3090', '951', '1477', '4229', '1833', '2207', '233', '3638', '4661', '416', '1052', [4275], '1173', '1660', [4550], [839], [4258], '4063', '3202', '2046', '2596', [1061], '3960', '3964', '3405', '3938', '2183', '4171', '4371', '2732', '2960', '2500', '1589', '4644', '1366', '69', '3644', '1170', '3397', '2576', [561], '903', '1001', '983', [2300], '1294', '3667', [993], '3688', '773', '3632', '3339', '2354', '196', '2427', [2102], '2952', '2092', '1639', '4059', '1789', '2370', '369', '4205', '2331', '548', [4151], '218', '3861', '2121', '2168', '1062', '3013', '4249', '3869', [2854], '4060', '900', '1019', [1063], '230', '175', [140], [2361], [625], '2196', [2250], '3557', '1741', '1827', '2700', '2816', '3431', '1097', [3337], '722', [3656], '3586', '4627', [1758], '4268', '2599', '1817', [4115], '488', '2885', '3882', '2963', '3601', '3482', '3336', '3810', '1527', '3766', [3321], '2997', '3210', '3386', '47', '4030', '2122', '2725', '3062', '2200', '698', '3128', '256', '3118', '3997', '1306']\n"
     ]
    }
   ],
   "source": [
    "texts = [str(lemmatize(word, min_length=2)).split('/')[0].split(\"b\\'\")[-1] for word in model_word_index_dict.keys()]\n",
    "for x in model_keys_stemmed:\n",
    "    if x.startswith(\"cucu\"):\n",
    "        print(x)\n",
    "def get_model_index(lda_index):\n",
    "    word = lda_index_word_dict[lda_index]\n",
    "    #print(\"{} is word {}\".format(lda_index, word))\n",
    "    try:\n",
    "        return model_word_index_dict[word]\n",
    "    except KeyError:\n",
    "        return [index for index in range(len(texts)) if texts[index] == word]\n",
    "\n",
    "real_vector = np.zeros((topic_sentences.shape[0], len(model_index_word_dict)))\n",
    "inverse_indexes = [get_model_index(i) for i in range(len(lda_index_word_dict))]\n",
    "print(inverse_indexes)"
   ]
  },
  {
   "cell_type": "code",
   "execution_count": 51,
   "metadata": {},
   "outputs": [
    {
     "data": {
      "text/plain": [
       "4681"
      ]
     },
     "execution_count": 51,
     "metadata": {},
     "output_type": "execute_result"
    }
   ],
   "source": [
    "len(model_index_word_dict)"
   ]
  },
  {
   "cell_type": "code",
   "execution_count": 52,
   "metadata": {},
   "outputs": [
    {
     "data": {
      "text/plain": [
       "2280"
      ]
     },
     "execution_count": 52,
     "metadata": {},
     "output_type": "execute_result"
    }
   ],
   "source": [
    "len(lda_index_word_dict)"
   ]
  },
  {
   "cell_type": "code",
   "execution_count": 64,
   "metadata": {},
   "outputs": [],
   "source": [
    "for ind, invere_index in enumerate(inverse_indexes):\n",
    "    if isinstance(invere_index, list):\n",
    "        # more than one index in the model because of lemmatization\n",
    "        for x in invere_index:\n",
    "            real_vector[:, x] = topic_sentences[:, ind]\n",
    "    else:\n",
    "        invere_index = int(invere_index)\n",
    "        real_vector[:, invere_index] = topic_sentences[:, ind] "
   ]
  },
  {
   "cell_type": "markdown",
   "metadata": {},
   "source": [
    "Adesso nel real vector (num_sentences, model_word_number) c'è il topic vector estratto da LDA per ogni frase nel modello"
   ]
  }
 ],
 "metadata": {
  "kernelspec": {
   "display_name": "Python 3",
   "language": "python",
   "name": "python3"
  },
  "language_info": {
   "codemirror_mode": {
    "name": "ipython",
    "version": 3
   },
   "file_extension": ".py",
   "mimetype": "text/x-python",
   "name": "python",
   "nbconvert_exporter": "python",
   "pygments_lexer": "ipython3",
   "version": "3.6.8"
  }
 },
 "nbformat": 4,
 "nbformat_minor": 1
}
